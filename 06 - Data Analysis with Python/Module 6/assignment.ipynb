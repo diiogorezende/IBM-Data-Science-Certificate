{
 "cells": [
  {
   "metadata": {},
   "cell_type": "markdown",
   "source": [
    "Neste projeto iremos trabalhar com um dataset de seguro medico. Este dataset se refere a uma modificacao do [Medical Insurance Price Prediction](https://www.kaggle.com/datasets/harishkumardatalab/medical-insurance-price-prediction?resource=download).\n",
    "\n",
    "__Variaveis:__\n",
    "- Age: idade do segurado\n",
    "- Gender: Genero do segurado. 1 = Mulher; 2 = Homem\n",
    "- BMI: Indice de massa corporal\n",
    "- No_of_Children: Numero de filhos que o segurado possui\n",
    "- Smoker: Se o segurado eh fumante ou nao. 1 = Fumante; 0 = Nao fumante.\n",
    "- Region: A qual regiao dos Estados Unidos da America o segurado pertence. 1 = Northwest; 2 = Northeast; 3 = Southwest; 4 = Southeast\n",
    "- Charges: Cobrancas do seguro em US dolares.\n",
    "\n",
    "__Objetivos:__\n",
    "- Carregas os dados\n",
    "- Limpar os dados, tratando os dados ausentes\n",
    "- Realizar uma Analise Exploratoria de Dados e identificar os atributos que mais afetam as cobrancas de seguro\n",
    "- Desenvolver um Regressao Linear simples e multipla para prever as cobrancas\n",
    "- Usar a Regressao Ridge para melhorar a performance dos modelos de regressao."
   ],
   "id": "7c86d74b321e48e2"
  },
  {
   "metadata": {},
   "cell_type": "markdown",
   "source": "# Importacoes",
   "id": "d2a0f6b8d343132b"
  },
  {
   "metadata": {
    "ExecuteTime": {
     "end_time": "2024-09-13T20:41:17.774023Z",
     "start_time": "2024-09-13T20:41:17.217467Z"
    }
   },
   "cell_type": "code",
   "source": [
    "import pandas as pd\n",
    "import numpy as np\n",
    "import matplotlib.pyplot as plt\n",
    "import seaborn as sns\n",
    "from sklearn.pipeline import Pipeline\n",
    "from sklearn.preprocessing import StandardScaler, PolynomialFeatures\n",
    "from sklearn.model_selection import train_test_split, cross_val_score\n",
    "from sklearn.linear_model import LinearRegression, Ridge\n",
    "from sklearn.metrics import mean_squared_error, mean_absolute_error, r2_score\n",
    "import warnings\n",
    "warnings.filterwarnings('ignore')\n",
    "plt.style.use('ggplot')"
   ],
   "id": "6a2b2f91d93ac83d",
   "outputs": [],
   "execution_count": 1
  },
  {
   "metadata": {},
   "cell_type": "markdown",
   "source": "# Carregar os dados",
   "id": "5671e32cb671e98b"
  },
  {
   "metadata": {
    "ExecuteTime": {
     "end_time": "2024-09-13T20:41:17.835319Z",
     "start_time": "2024-09-13T20:41:17.775237Z"
    }
   },
   "cell_type": "code",
   "source": [
    "df = pd.read_csv(\"medical_insurance_dataset.csv\")\n",
    "df.head()"
   ],
   "id": "63b5c56dcca40f9c",
   "outputs": [
    {
     "data": {
      "text/plain": [
       "   19  1    27.9  0 1.1  3    16884.924\n",
       "0  18  2  33.770  1   0  4   1725.55230\n",
       "1  28  2  33.000  3   0  4   4449.46200\n",
       "2  33  2  22.705  0   0  1  21984.47061\n",
       "3  32  2  28.880  0   0  1   3866.85520\n",
       "4  31  1  25.740  0   ?  4   3756.62160"
      ],
      "text/html": [
       "<div>\n",
       "<style scoped>\n",
       "    .dataframe tbody tr th:only-of-type {\n",
       "        vertical-align: middle;\n",
       "    }\n",
       "\n",
       "    .dataframe tbody tr th {\n",
       "        vertical-align: top;\n",
       "    }\n",
       "\n",
       "    .dataframe thead th {\n",
       "        text-align: right;\n",
       "    }\n",
       "</style>\n",
       "<table border=\"1\" class=\"dataframe\">\n",
       "  <thead>\n",
       "    <tr style=\"text-align: right;\">\n",
       "      <th></th>\n",
       "      <th>19</th>\n",
       "      <th>1</th>\n",
       "      <th>27.9</th>\n",
       "      <th>0</th>\n",
       "      <th>1.1</th>\n",
       "      <th>3</th>\n",
       "      <th>16884.924</th>\n",
       "    </tr>\n",
       "  </thead>\n",
       "  <tbody>\n",
       "    <tr>\n",
       "      <th>0</th>\n",
       "      <td>18</td>\n",
       "      <td>2</td>\n",
       "      <td>33.770</td>\n",
       "      <td>1</td>\n",
       "      <td>0</td>\n",
       "      <td>4</td>\n",
       "      <td>1725.55230</td>\n",
       "    </tr>\n",
       "    <tr>\n",
       "      <th>1</th>\n",
       "      <td>28</td>\n",
       "      <td>2</td>\n",
       "      <td>33.000</td>\n",
       "      <td>3</td>\n",
       "      <td>0</td>\n",
       "      <td>4</td>\n",
       "      <td>4449.46200</td>\n",
       "    </tr>\n",
       "    <tr>\n",
       "      <th>2</th>\n",
       "      <td>33</td>\n",
       "      <td>2</td>\n",
       "      <td>22.705</td>\n",
       "      <td>0</td>\n",
       "      <td>0</td>\n",
       "      <td>1</td>\n",
       "      <td>21984.47061</td>\n",
       "    </tr>\n",
       "    <tr>\n",
       "      <th>3</th>\n",
       "      <td>32</td>\n",
       "      <td>2</td>\n",
       "      <td>28.880</td>\n",
       "      <td>0</td>\n",
       "      <td>0</td>\n",
       "      <td>1</td>\n",
       "      <td>3866.85520</td>\n",
       "    </tr>\n",
       "    <tr>\n",
       "      <th>4</th>\n",
       "      <td>31</td>\n",
       "      <td>1</td>\n",
       "      <td>25.740</td>\n",
       "      <td>0</td>\n",
       "      <td>?</td>\n",
       "      <td>4</td>\n",
       "      <td>3756.62160</td>\n",
       "    </tr>\n",
       "  </tbody>\n",
       "</table>\n",
       "</div>"
      ]
     },
     "execution_count": 2,
     "metadata": {},
     "output_type": "execute_result"
    }
   ],
   "execution_count": 2
  },
  {
   "metadata": {},
   "cell_type": "markdown",
   "source": "## Breves alteracoes",
   "id": "b0659f217c1aec1"
  },
  {
   "metadata": {
    "ExecuteTime": {
     "end_time": "2024-09-13T20:41:17.841699Z",
     "start_time": "2024-09-13T20:41:17.835319Z"
    }
   },
   "cell_type": "code",
   "source": [
    "# Alterar o nome das variaveis\n",
    "columns = ['Age', 'Gender', 'BMI', 'No_of_Children', 'Smoker', 'Region', 'Charges']\n",
    "df.columns = columns"
   ],
   "id": "83afa524c16fa9f3",
   "outputs": [],
   "execution_count": 3
  },
  {
   "metadata": {
    "ExecuteTime": {
     "end_time": "2024-09-13T20:41:17.988268Z",
     "start_time": "2024-09-13T20:41:17.841699Z"
    }
   },
   "cell_type": "code",
   "source": "df.head()",
   "id": "b90de6387dfd9bcb",
   "outputs": [
    {
     "data": {
      "text/plain": [
       "  Age  Gender     BMI  No_of_Children Smoker  Region      Charges\n",
       "0  18       2  33.770               1      0       4   1725.55230\n",
       "1  28       2  33.000               3      0       4   4449.46200\n",
       "2  33       2  22.705               0      0       1  21984.47061\n",
       "3  32       2  28.880               0      0       1   3866.85520\n",
       "4  31       1  25.740               0      ?       4   3756.62160"
      ],
      "text/html": [
       "<div>\n",
       "<style scoped>\n",
       "    .dataframe tbody tr th:only-of-type {\n",
       "        vertical-align: middle;\n",
       "    }\n",
       "\n",
       "    .dataframe tbody tr th {\n",
       "        vertical-align: top;\n",
       "    }\n",
       "\n",
       "    .dataframe thead th {\n",
       "        text-align: right;\n",
       "    }\n",
       "</style>\n",
       "<table border=\"1\" class=\"dataframe\">\n",
       "  <thead>\n",
       "    <tr style=\"text-align: right;\">\n",
       "      <th></th>\n",
       "      <th>Age</th>\n",
       "      <th>Gender</th>\n",
       "      <th>BMI</th>\n",
       "      <th>No_of_Children</th>\n",
       "      <th>Smoker</th>\n",
       "      <th>Region</th>\n",
       "      <th>Charges</th>\n",
       "    </tr>\n",
       "  </thead>\n",
       "  <tbody>\n",
       "    <tr>\n",
       "      <th>0</th>\n",
       "      <td>18</td>\n",
       "      <td>2</td>\n",
       "      <td>33.770</td>\n",
       "      <td>1</td>\n",
       "      <td>0</td>\n",
       "      <td>4</td>\n",
       "      <td>1725.55230</td>\n",
       "    </tr>\n",
       "    <tr>\n",
       "      <th>1</th>\n",
       "      <td>28</td>\n",
       "      <td>2</td>\n",
       "      <td>33.000</td>\n",
       "      <td>3</td>\n",
       "      <td>0</td>\n",
       "      <td>4</td>\n",
       "      <td>4449.46200</td>\n",
       "    </tr>\n",
       "    <tr>\n",
       "      <th>2</th>\n",
       "      <td>33</td>\n",
       "      <td>2</td>\n",
       "      <td>22.705</td>\n",
       "      <td>0</td>\n",
       "      <td>0</td>\n",
       "      <td>1</td>\n",
       "      <td>21984.47061</td>\n",
       "    </tr>\n",
       "    <tr>\n",
       "      <th>3</th>\n",
       "      <td>32</td>\n",
       "      <td>2</td>\n",
       "      <td>28.880</td>\n",
       "      <td>0</td>\n",
       "      <td>0</td>\n",
       "      <td>1</td>\n",
       "      <td>3866.85520</td>\n",
       "    </tr>\n",
       "    <tr>\n",
       "      <th>4</th>\n",
       "      <td>31</td>\n",
       "      <td>1</td>\n",
       "      <td>25.740</td>\n",
       "      <td>0</td>\n",
       "      <td>?</td>\n",
       "      <td>4</td>\n",
       "      <td>3756.62160</td>\n",
       "    </tr>\n",
       "  </tbody>\n",
       "</table>\n",
       "</div>"
      ]
     },
     "execution_count": 4,
     "metadata": {},
     "output_type": "execute_result"
    }
   ],
   "execution_count": 4
  },
  {
   "metadata": {
    "ExecuteTime": {
     "end_time": "2024-09-13T20:41:17.995224Z",
     "start_time": "2024-09-13T20:41:17.988268Z"
    }
   },
   "cell_type": "code",
   "source": [
    "# Substituir os valores \"?\" por NaN.\n",
    "df.replace('?', np.nan, inplace=True)"
   ],
   "id": "4b0dcabc96e12a01",
   "outputs": [],
   "execution_count": 5
  },
  {
   "metadata": {
    "ExecuteTime": {
     "end_time": "2024-09-13T20:41:18.007913Z",
     "start_time": "2024-09-13T20:41:17.995224Z"
    }
   },
   "cell_type": "code",
   "source": "df.head()",
   "id": "607a52234556a2a8",
   "outputs": [
    {
     "data": {
      "text/plain": [
       "  Age  Gender     BMI  No_of_Children Smoker  Region      Charges\n",
       "0  18       2  33.770               1      0       4   1725.55230\n",
       "1  28       2  33.000               3      0       4   4449.46200\n",
       "2  33       2  22.705               0      0       1  21984.47061\n",
       "3  32       2  28.880               0      0       1   3866.85520\n",
       "4  31       1  25.740               0    NaN       4   3756.62160"
      ],
      "text/html": [
       "<div>\n",
       "<style scoped>\n",
       "    .dataframe tbody tr th:only-of-type {\n",
       "        vertical-align: middle;\n",
       "    }\n",
       "\n",
       "    .dataframe tbody tr th {\n",
       "        vertical-align: top;\n",
       "    }\n",
       "\n",
       "    .dataframe thead th {\n",
       "        text-align: right;\n",
       "    }\n",
       "</style>\n",
       "<table border=\"1\" class=\"dataframe\">\n",
       "  <thead>\n",
       "    <tr style=\"text-align: right;\">\n",
       "      <th></th>\n",
       "      <th>Age</th>\n",
       "      <th>Gender</th>\n",
       "      <th>BMI</th>\n",
       "      <th>No_of_Children</th>\n",
       "      <th>Smoker</th>\n",
       "      <th>Region</th>\n",
       "      <th>Charges</th>\n",
       "    </tr>\n",
       "  </thead>\n",
       "  <tbody>\n",
       "    <tr>\n",
       "      <th>0</th>\n",
       "      <td>18</td>\n",
       "      <td>2</td>\n",
       "      <td>33.770</td>\n",
       "      <td>1</td>\n",
       "      <td>0</td>\n",
       "      <td>4</td>\n",
       "      <td>1725.55230</td>\n",
       "    </tr>\n",
       "    <tr>\n",
       "      <th>1</th>\n",
       "      <td>28</td>\n",
       "      <td>2</td>\n",
       "      <td>33.000</td>\n",
       "      <td>3</td>\n",
       "      <td>0</td>\n",
       "      <td>4</td>\n",
       "      <td>4449.46200</td>\n",
       "    </tr>\n",
       "    <tr>\n",
       "      <th>2</th>\n",
       "      <td>33</td>\n",
       "      <td>2</td>\n",
       "      <td>22.705</td>\n",
       "      <td>0</td>\n",
       "      <td>0</td>\n",
       "      <td>1</td>\n",
       "      <td>21984.47061</td>\n",
       "    </tr>\n",
       "    <tr>\n",
       "      <th>3</th>\n",
       "      <td>32</td>\n",
       "      <td>2</td>\n",
       "      <td>28.880</td>\n",
       "      <td>0</td>\n",
       "      <td>0</td>\n",
       "      <td>1</td>\n",
       "      <td>3866.85520</td>\n",
       "    </tr>\n",
       "    <tr>\n",
       "      <th>4</th>\n",
       "      <td>31</td>\n",
       "      <td>1</td>\n",
       "      <td>25.740</td>\n",
       "      <td>0</td>\n",
       "      <td>NaN</td>\n",
       "      <td>4</td>\n",
       "      <td>3756.62160</td>\n",
       "    </tr>\n",
       "  </tbody>\n",
       "</table>\n",
       "</div>"
      ]
     },
     "execution_count": 6,
     "metadata": {},
     "output_type": "execute_result"
    }
   ],
   "execution_count": 6
  },
  {
   "metadata": {},
   "cell_type": "markdown",
   "source": "# Exploracao dos dados",
   "id": "22683adcc9f5977e"
  },
  {
   "metadata": {
    "ExecuteTime": {
     "end_time": "2024-09-13T20:41:18.027459Z",
     "start_time": "2024-09-13T20:41:18.008349Z"
    }
   },
   "cell_type": "code",
   "source": "df.info()",
   "id": "b5d5acbcfb1dfff2",
   "outputs": [
    {
     "name": "stdout",
     "output_type": "stream",
     "text": [
      "<class 'pandas.core.frame.DataFrame'>\n",
      "RangeIndex: 2771 entries, 0 to 2770\n",
      "Data columns (total 7 columns):\n",
      " #   Column          Non-Null Count  Dtype  \n",
      "---  ------          --------------  -----  \n",
      " 0   Age             2767 non-null   object \n",
      " 1   Gender          2771 non-null   int64  \n",
      " 2   BMI             2771 non-null   float64\n",
      " 3   No_of_Children  2771 non-null   int64  \n",
      " 4   Smoker          2764 non-null   object \n",
      " 5   Region          2771 non-null   int64  \n",
      " 6   Charges         2771 non-null   float64\n",
      "dtypes: float64(2), int64(3), object(2)\n",
      "memory usage: 151.7+ KB\n"
     ]
    }
   ],
   "execution_count": 7
  },
  {
   "metadata": {},
   "cell_type": "markdown",
   "source": [
    "Observamos que o nosso dataset possui 2771 entradas. Ou seja, as variaveis \"Age\" e \"Smoker\" possuem valores ausentes, e tambem estao com seu tipo de dado \"object\". \n",
    "\n",
    "Eh solicitado que sejam feitos os seguintes tratamentos:\n",
    "- Para as variaveis continuas, substituir os valores ausentes com a media.\n",
    "- Para as variaveis categoricas, substituir os valores ausentes com a moda.\n",
    "- Atualizar o tipo de dado das colunas.\n",
    "- Validar as alteracoes."
   ],
   "id": "c05ea9f0709df50f"
  },
  {
   "metadata": {
    "ExecuteTime": {
     "end_time": "2024-09-13T20:41:18.051325Z",
     "start_time": "2024-09-13T20:41:18.030738Z"
    }
   },
   "cell_type": "code",
   "source": [
    "# Substituir as idades ausentes com a media\n",
    "mean_age = df['Age'].astype('float').mean(axis=0)\n",
    "df['Age'].replace(np.nan, mean_age, inplace=True)\n",
    "\n",
    "# Substituir os valores ausentes da variavel Smoker com a moda.\n",
    "smoker = df['Smoker'].value_counts().idxmax()\n",
    "df['Smoker'].replace(np.nan, smoker, inplace=True)\n",
    "\n",
    "# Alterar o tipo de dado das variaveis\n",
    "df[['Age', 'Smoker']] = df[['Age', 'Smoker']].astype('int')\n",
    "\n",
    "print(df.info())"
   ],
   "id": "4ebc651628679fa",
   "outputs": [
    {
     "name": "stdout",
     "output_type": "stream",
     "text": [
      "<class 'pandas.core.frame.DataFrame'>\n",
      "RangeIndex: 2771 entries, 0 to 2770\n",
      "Data columns (total 7 columns):\n",
      " #   Column          Non-Null Count  Dtype  \n",
      "---  ------          --------------  -----  \n",
      " 0   Age             2771 non-null   int32  \n",
      " 1   Gender          2771 non-null   int64  \n",
      " 2   BMI             2771 non-null   float64\n",
      " 3   No_of_Children  2771 non-null   int64  \n",
      " 4   Smoker          2771 non-null   int32  \n",
      " 5   Region          2771 non-null   int64  \n",
      " 6   Charges         2771 non-null   float64\n",
      "dtypes: float64(2), int32(2), int64(3)\n",
      "memory usage: 130.0 KB\n",
      "None\n"
     ]
    }
   ],
   "execution_count": 8
  },
  {
   "metadata": {
    "ExecuteTime": {
     "end_time": "2024-09-13T20:41:18.057156Z",
     "start_time": "2024-09-13T20:41:18.052852Z"
    }
   },
   "cell_type": "code",
   "source": [
    "# Alterar a coluna \"Charges\" para ter apenas duas casas decimais.\n",
    "df['Charges'] = df['Charges'].round(2)"
   ],
   "id": "3c73525db2ec5825",
   "outputs": [],
   "execution_count": 9
  },
  {
   "metadata": {
    "ExecuteTime": {
     "end_time": "2024-09-13T20:41:18.069251Z",
     "start_time": "2024-09-13T20:41:18.057156Z"
    }
   },
   "cell_type": "code",
   "source": "df.head()",
   "id": "befb0c7b2472c22b",
   "outputs": [
    {
     "data": {
      "text/plain": [
       "   Age  Gender     BMI  No_of_Children  Smoker  Region   Charges\n",
       "0   18       2  33.770               1       0       4   1725.55\n",
       "1   28       2  33.000               3       0       4   4449.46\n",
       "2   33       2  22.705               0       0       1  21984.47\n",
       "3   32       2  28.880               0       0       1   3866.86\n",
       "4   31       1  25.740               0       0       4   3756.62"
      ],
      "text/html": [
       "<div>\n",
       "<style scoped>\n",
       "    .dataframe tbody tr th:only-of-type {\n",
       "        vertical-align: middle;\n",
       "    }\n",
       "\n",
       "    .dataframe tbody tr th {\n",
       "        vertical-align: top;\n",
       "    }\n",
       "\n",
       "    .dataframe thead th {\n",
       "        text-align: right;\n",
       "    }\n",
       "</style>\n",
       "<table border=\"1\" class=\"dataframe\">\n",
       "  <thead>\n",
       "    <tr style=\"text-align: right;\">\n",
       "      <th></th>\n",
       "      <th>Age</th>\n",
       "      <th>Gender</th>\n",
       "      <th>BMI</th>\n",
       "      <th>No_of_Children</th>\n",
       "      <th>Smoker</th>\n",
       "      <th>Region</th>\n",
       "      <th>Charges</th>\n",
       "    </tr>\n",
       "  </thead>\n",
       "  <tbody>\n",
       "    <tr>\n",
       "      <th>0</th>\n",
       "      <td>18</td>\n",
       "      <td>2</td>\n",
       "      <td>33.770</td>\n",
       "      <td>1</td>\n",
       "      <td>0</td>\n",
       "      <td>4</td>\n",
       "      <td>1725.55</td>\n",
       "    </tr>\n",
       "    <tr>\n",
       "      <th>1</th>\n",
       "      <td>28</td>\n",
       "      <td>2</td>\n",
       "      <td>33.000</td>\n",
       "      <td>3</td>\n",
       "      <td>0</td>\n",
       "      <td>4</td>\n",
       "      <td>4449.46</td>\n",
       "    </tr>\n",
       "    <tr>\n",
       "      <th>2</th>\n",
       "      <td>33</td>\n",
       "      <td>2</td>\n",
       "      <td>22.705</td>\n",
       "      <td>0</td>\n",
       "      <td>0</td>\n",
       "      <td>1</td>\n",
       "      <td>21984.47</td>\n",
       "    </tr>\n",
       "    <tr>\n",
       "      <th>3</th>\n",
       "      <td>32</td>\n",
       "      <td>2</td>\n",
       "      <td>28.880</td>\n",
       "      <td>0</td>\n",
       "      <td>0</td>\n",
       "      <td>1</td>\n",
       "      <td>3866.86</td>\n",
       "    </tr>\n",
       "    <tr>\n",
       "      <th>4</th>\n",
       "      <td>31</td>\n",
       "      <td>1</td>\n",
       "      <td>25.740</td>\n",
       "      <td>0</td>\n",
       "      <td>0</td>\n",
       "      <td>4</td>\n",
       "      <td>3756.62</td>\n",
       "    </tr>\n",
       "  </tbody>\n",
       "</table>\n",
       "</div>"
      ]
     },
     "execution_count": 10,
     "metadata": {},
     "output_type": "execute_result"
    }
   ],
   "execution_count": 10
  },
  {
   "metadata": {},
   "cell_type": "markdown",
   "source": "__Grafico da Regressao Linear__ para as variaveis _Charges_ e _BMI_",
   "id": "223962c595bb1d15"
  },
  {
   "metadata": {
    "ExecuteTime": {
     "end_time": "2024-09-13T20:41:18.951280Z",
     "start_time": "2024-09-13T20:41:18.070510Z"
    }
   },
   "cell_type": "code",
   "source": [
    "sns.regplot(x=\"BMI\", y=\"Charges\", data=df)\n",
    "plt.ylim(0,)\n",
    "plt.show();"
   ],
   "id": "67335bf0c30fd5fb",
   "outputs": [
    {
     "data": {
      "text/plain": [
       "<Figure size 640x480 with 1 Axes>"
      ],
      "image/png": "[encoded data removed]"
     },
     "metadata": {},
     "output_type": "display_data"
    }
   ],
   "execution_count": 11
  },
  {
   "metadata": {},
   "cell_type": "markdown",
   "source": "__Grafico de Caixa__ para as variaveis _Charges_ e _Smoker_",
   "id": "a0a5fe65d40bef0b"
  },
  {
   "metadata": {
    "ExecuteTime": {
     "end_time": "2024-09-13T20:41:19.161737Z",
     "start_time": "2024-09-13T20:41:18.952697Z"
    }
   },
   "cell_type": "code",
   "source": [
    "sns.boxplot(x=\"Smoker\", y=\"Charges\", data=df)\n",
    "plt.show();"
   ],
   "id": "8039a5912e7e79c7",
   "outputs": [
    {
     "data": {
      "text/plain": [
       "<Figure size 640x480 with 1 Axes>"
      ],
      "image/png": "[encoded data removed]"
     },
     "metadata": {},
     "output_type": "display_data"
    }
   ],
   "execution_count": 12
  },
  {
   "metadata": {
    "ExecuteTime": {
     "end_time": "2024-09-13T20:41:19.175800Z",
     "start_time": "2024-09-13T20:41:19.162762Z"
    }
   },
   "cell_type": "code",
   "source": [
    "# Exibir a correlacao\n",
    "df.corr()"
   ],
   "id": "b6118c1ef82bde68",
   "outputs": [
    {
     "data": {
      "text/plain": [
       "                     Age    Gender       BMI  No_of_Children    Smoker  \\\n",
       "Age             1.000000 -0.026584  0.112859        0.037126 -0.022290   \n",
       "Gender         -0.026584  1.000000  0.042766        0.015693  0.083125   \n",
       "BMI             0.112859  0.042766  1.000000       -0.001642  0.011824   \n",
       "No_of_Children  0.037126  0.015693 -0.001642        1.000000  0.007016   \n",
       "Smoker         -0.022290  0.083125  0.011824        0.007016  1.000000   \n",
       "Region         -0.006969  0.022360  0.271200       -0.025594  0.053839   \n",
       "Charges         0.298892  0.062959  0.199906        0.066551  0.789141   \n",
       "\n",
       "                  Region   Charges  \n",
       "Age            -0.006969  0.298892  \n",
       "Gender          0.022360  0.062959  \n",
       "BMI             0.271200  0.199906  \n",
       "No_of_Children -0.025594  0.066551  \n",
       "Smoker          0.053839  0.789141  \n",
       "Region          1.000000  0.054018  \n",
       "Charges         0.054018  1.000000  "
      ],
      "text/html": [
       "<div>\n",
       "<style scoped>\n",
       "    .dataframe tbody tr th:only-of-type {\n",
       "        vertical-align: middle;\n",
       "    }\n",
       "\n",
       "    .dataframe tbody tr th {\n",
       "        vertical-align: top;\n",
       "    }\n",
       "\n",
       "    .dataframe thead th {\n",
       "        text-align: right;\n",
       "    }\n",
       "</style>\n",
       "<table border=\"1\" class=\"dataframe\">\n",
       "  <thead>\n",
       "    <tr style=\"text-align: right;\">\n",
       "      <th></th>\n",
       "      <th>Age</th>\n",
       "      <th>Gender</th>\n",
       "      <th>BMI</th>\n",
       "      <th>No_of_Children</th>\n",
       "      <th>Smoker</th>\n",
       "      <th>Region</th>\n",
       "      <th>Charges</th>\n",
       "    </tr>\n",
       "  </thead>\n",
       "  <tbody>\n",
       "    <tr>\n",
       "      <th>Age</th>\n",
       "      <td>1.000000</td>\n",
       "      <td>-0.026584</td>\n",
       "      <td>0.112859</td>\n",
       "      <td>0.037126</td>\n",
       "      <td>-0.022290</td>\n",
       "      <td>-0.006969</td>\n",
       "      <td>0.298892</td>\n",
       "    </tr>\n",
       "    <tr>\n",
       "      <th>Gender</th>\n",
       "      <td>-0.026584</td>\n",
       "      <td>1.000000</td>\n",
       "      <td>0.042766</td>\n",
       "      <td>0.015693</td>\n",
       "      <td>0.083125</td>\n",
       "      <td>0.022360</td>\n",
       "      <td>0.062959</td>\n",
       "    </tr>\n",
       "    <tr>\n",
       "      <th>BMI</th>\n",
       "      <td>0.112859</td>\n",
       "      <td>0.042766</td>\n",
       "      <td>1.000000</td>\n",
       "      <td>-0.001642</td>\n",
       "      <td>0.011824</td>\n",
       "      <td>0.271200</td>\n",
       "      <td>0.199906</td>\n",
       "    </tr>\n",
       "    <tr>\n",
       "      <th>No_of_Children</th>\n",
       "      <td>0.037126</td>\n",
       "      <td>0.015693</td>\n",
       "      <td>-0.001642</td>\n",
       "      <td>1.000000</td>\n",
       "      <td>0.007016</td>\n",
       "      <td>-0.025594</td>\n",
       "      <td>0.066551</td>\n",
       "    </tr>\n",
       "    <tr>\n",
       "      <th>Smoker</th>\n",
       "      <td>-0.022290</td>\n",
       "      <td>0.083125</td>\n",
       "      <td>0.011824</td>\n",
       "      <td>0.007016</td>\n",
       "      <td>1.000000</td>\n",
       "      <td>0.053839</td>\n",
       "      <td>0.789141</td>\n",
       "    </tr>\n",
       "    <tr>\n",
       "      <th>Region</th>\n",
       "      <td>-0.006969</td>\n",
       "      <td>0.022360</td>\n",
       "      <td>0.271200</td>\n",
       "      <td>-0.025594</td>\n",
       "      <td>0.053839</td>\n",
       "      <td>1.000000</td>\n",
       "      <td>0.054018</td>\n",
       "    </tr>\n",
       "    <tr>\n",
       "      <th>Charges</th>\n",
       "      <td>0.298892</td>\n",
       "      <td>0.062959</td>\n",
       "      <td>0.199906</td>\n",
       "      <td>0.066551</td>\n",
       "      <td>0.789141</td>\n",
       "      <td>0.054018</td>\n",
       "      <td>1.000000</td>\n",
       "    </tr>\n",
       "  </tbody>\n",
       "</table>\n",
       "</div>"
      ]
     },
     "execution_count": 13,
     "metadata": {},
     "output_type": "execute_result"
    }
   ],
   "execution_count": 13
  },
  {
   "metadata": {},
   "cell_type": "markdown",
   "source": "# Desenvolvimento do modelo",
   "id": "a2d3fbf079953e76"
  },
  {
   "metadata": {
    "ExecuteTime": {
     "end_time": "2024-09-13T20:44:48.576829Z",
     "start_time": "2024-09-13T20:44:48.553322Z"
    }
   },
   "cell_type": "code",
   "source": [
    "lr = LinearRegression()\n",
    "x = df[['Smoker']]\n",
    "y = df[['Charges']]\n",
    "lr.fit(x, y)\n",
    "lr.score(x, y)"
   ],
   "id": "6a7860c28ec443c",
   "outputs": [
    {
     "data": {
      "text/plain": [
       "0.6227430402464125"
      ]
     },
     "execution_count": 14,
     "metadata": {},
     "output_type": "execute_result"
    }
   ],
   "execution_count": 14
  },
  {
   "metadata": {
    "ExecuteTime": {
     "end_time": "2024-09-13T20:46:06.749888Z",
     "start_time": "2024-09-13T20:46:06.726884Z"
    }
   },
   "cell_type": "code",
   "source": [
    "y = df['Charges']\n",
    "x = df.drop(\"Charges\", axis=1)\n",
    "lr.fit(x, y)\n",
    "lr.score(x, y)"
   ],
   "id": "afc8525e9aefb0ea",
   "outputs": [
    {
     "data": {
      "text/plain": [
       "0.7505888664568174"
      ]
     },
     "execution_count": 15,
     "metadata": {},
     "output_type": "execute_result"
    }
   ],
   "execution_count": 15
  },
  {
   "metadata": {
    "ExecuteTime": {
     "end_time": "2024-09-13T20:51:15.553594Z",
     "start_time": "2024-09-13T20:51:15.537540Z"
    }
   },
   "cell_type": "code",
   "source": [
    "Input = [(\"Scale\", StandardScaler()), (\"PolynomialFeatures\", PolynomialFeatures(include_bias=False)), (\"Model\", LinearRegression())]\n",
    "pipe = Pipeline(Input)\n",
    "z = x.astype(float)\n",
    "pipe.fit(z, y)\n",
    "ypipe = pipe.predict(z)\n",
    "print(r2_score(y, ypipe))"
   ],
   "id": "4e882772642bd4c2",
   "outputs": [
    {
     "name": "stdout",
     "output_type": "stream",
     "text": [
      "0.8453679236827971\n"
     ]
    }
   ],
   "execution_count": 17
  },
  {
   "metadata": {},
   "cell_type": "markdown",
   "source": "# Refinamento do modelo",
   "id": "59eedd1f0a8dcd6e"
  },
  {
   "metadata": {
    "ExecuteTime": {
     "end_time": "2024-09-13T20:52:44.988099Z",
     "start_time": "2024-09-13T20:52:44.979864Z"
    }
   },
   "cell_type": "code",
   "source": "x_train, x_test, y_train, y_test = train_test_split(z, y, test_size=0.2, random_state=1)",
   "id": "bf1f66d409a42c0b",
   "outputs": [],
   "execution_count": 18
  },
  {
   "metadata": {
    "ExecuteTime": {
     "end_time": "2024-09-13T20:54:00.988021Z",
     "start_time": "2024-09-13T20:54:00.958030Z"
    }
   },
   "cell_type": "code",
   "source": [
    "ridge = Ridge(alpha=0.1)\n",
    "ridge.fit(x_train, y_train)\n",
    "yhat = ridge.predict(x_test)\n",
    "print(r2_score(y_test, yhat))"
   ],
   "id": "e39d2a3ce1b0012c",
   "outputs": [
    {
     "name": "stdout",
     "output_type": "stream",
     "text": [
      "0.725419885841223\n"
     ]
    }
   ],
   "execution_count": 19
  },
  {
   "metadata": {
    "ExecuteTime": {
     "end_time": "2024-09-13T20:57:01.557556Z",
     "start_time": "2024-09-13T20:57:01.543133Z"
    }
   },
   "cell_type": "code",
   "source": [
    "pl = PolynomialFeatures(degree=2)\n",
    "x_train_pr = pl.fit_transform(x_train)\n",
    "x_test_pr = pl.fit_transform(x_test)\n",
    "ridge.fit(x_train_pr, y_train)\n",
    "yhat = ridge.predict(x_test_pr)\n",
    "print(r2_score(y_test, yhat))"
   ],
   "id": "8b690d78297f9923",
   "outputs": [
    {
     "name": "stdout",
     "output_type": "stream",
     "text": [
      "0.820841319517228\n"
     ]
    }
   ],
   "execution_count": 20
  }
 ],
 "metadata": {
  "kernelspec": {
   "display_name": "Python 3",
   "language": "python",
   "name": "python3"
  },
  "language_info": {
   "codemirror_mode": {
    "name": "ipython",
    "version": 2
   },
   "file_extension": ".py",
   "mimetype": "text/x-python",
   "name": "python",
   "nbconvert_exporter": "python",
   "pygments_lexer": "ipython2",
   "version": "2.7.6"
  }
 },
 "nbformat": 4,
 "nbformat_minor": 5
}
