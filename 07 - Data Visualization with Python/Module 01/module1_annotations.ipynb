{
 "cells": [
  {
   "metadata": {},
   "cell_type": "markdown",
   "source": [
    "# Line plots\n",
    "Exibe os dados em forma de pontos de dados conectados atraves de linhas. Exibe tendencias atraves do tempo, comparam datasets com uma variavel independente continua, ilustracao relacionamentos entre variaveis, permitem a visualizacao de dados continuos.\n",
    "\n",
    "Precisamos tomar o cuidado de escolher sabiamente as escalas dos eixos para nao gerar analises incorretas. \n",
    "\n",
    "# Bar plot\n",
    "Exibe dados atraves de barras retangulares, onde a altura representa a magnitude do dado. Otimos para comparar categorias ou grupos, e para rankear categorias.\n",
    "\n",
    "# Scatter plot\n",
    "Usa o plano cartesiano para exibir valores para duas variaveis. Podemos utiliza-lo para verificar a relacao entre variaveis, avaliar padroes e tendencias, encontrar outliers, etc.\n",
    "\n",
    "# Box plot\n",
    "Permite verificarmos a distribuicao dos dados e eh acompanhado de medidas estatisticas. Nele, podemos observar a mediana, primeiro quartil, terceiro quartil, intervalo inter quartil (IQR), presenca de outliers, dispersao, skew, etc."
   ],
   "id": "19ea6fed44b6b325"
  },
  {
   "metadata": {},
   "cell_type": "markdown",
   "source": [
    "# Area plot\n",
    "Exibe a magnitude e a proporcao de multiplas variaveis.\n",
    "\n",
    "Geracao de um area plot:\n",
    "```\n",
    "df_top5.plot(kind='area')\n",
    "\n",
    "plt.title(\"Imigracao dos paises Top 5\")\n",
    "plt.ylabel(\"Numero de imigrantes\")\n",
    "plt.xlabel(\"Anos\")\n",
    "plt.show();\n",
    "```\n",
    "Eh um grafico util para acompanhar o mercado de acoes, visualizar demografia populacional, exibir a distribuicao de recursos, etc."
   ],
   "id": "53850cb5b7bab8cb"
  }
 ],
 "metadata": {
  "kernelspec": {
   "display_name": "Python 3",
   "language": "python",
   "name": "python3"
  },
  "language_info": {
   "codemirror_mode": {
    "name": "ipython",
    "version": 2
   },
   "file_extension": ".py",
   "mimetype": "text/x-python",
   "name": "python",
   "nbconvert_exporter": "python",
   "pygments_lexer": "ipython2",
   "version": "2.7.6"
  }
 },
 "nbformat": 4,
 "nbformat_minor": 5
}
