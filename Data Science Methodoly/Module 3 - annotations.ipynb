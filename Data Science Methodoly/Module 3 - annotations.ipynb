{
 "cells": [
  {
   "cell_type": "markdown",
   "metadata": {},
   "source": [
    "## Deployment\n",
    "\n",
    "Apos o modelo ser testado e validado, eh realizado o deploy deste modelo em producao. Apos feito o deploy, o modelo continua sendo monitorado e avaliado para se certificar que ele esta funcionando de maneira adequada."
   ]
  },
  {
   "cell_type": "markdown",
   "metadata": {},
   "source": [
    "## Feedback\n",
    "\n",
    "Neste momento recebemos feedbacks se o modelo esta cumprindo bem as tarefas a qual foi proposto.\n",
    "\n",
    "Esta etapa envolve dominio do negocio, boa interpretacao dos resultados, garantia da qualidade dos dados, custo computacional e acuracia do modelo."
   ]
  }
 ],
 "metadata": {
  "language_info": {
   "name": "python"
  }
 },
 "nbformat": 4,
 "nbformat_minor": 2
}
