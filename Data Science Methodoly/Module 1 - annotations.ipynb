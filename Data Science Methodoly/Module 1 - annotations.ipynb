{
 "cells": [
  {
   "cell_type": "markdown",
   "metadata": {},
   "source": [
    "Metodologia:\n",
    "- Sistema de metodos\n",
    "- Guia para tomada de decisao\n",
    "\n",
    "Inclui:\n",
    "- Coleta de dados\n",
    "- Criacao de estrategias de mensuracao\n",
    "- Comparacao metodos de analise\n",
    "\n",
    "Data Science Methodology:\n",
    "1. Entendimento do negocio; -> O que eh o problema?\n",
    "2. Abordagem analitica; -> Como podemos responder as perguntas usando os dados?\n",
    "3. Requisitos de dados; \n",
    "4. Coleta de dados;\n",
    "5. Entendimento dos dados;\n",
    "6. Preparacao dos dados;\n",
    "7. Modelagem;\n",
    "8. Avaliacao;\n",
    "9. Deploy;\n",
    "10. Feedback."
   ]
  },
  {
   "cell_type": "markdown",
   "metadata": {},
   "source": [
    "### Entendimento de negocio\n",
    "\n",
    "Precisamos entender alguns pontos.\n",
    "- O que estamos tentando resolver?\n",
    "- Qual o objetivo do projeto?\n",
    "- Quais as prioridades?\n",
    "\n",
    "Eh necessario:\n",
    "- Definir metas e objetivos claros para o projeto."
   ]
  },
  {
   "cell_type": "markdown",
   "metadata": {},
   "source": [
    "### Abordagem Analitica\n",
    "\n",
    "A abordagem escolhida depende do tipo de questao que queremos responder, que pode ser encontrar a probabilidade de um evento, a relacao entre alguma coisa, ou uma classificacao."
   ]
  },
  {
   "cell_type": "markdown",
   "metadata": {},
   "source": [
    "### Requisitos de dados\n",
    "\n",
    "- Entender os dados necessarios para o problema;\n",
    "- Entender o formato dos dados que serao recebidos;\n",
    "- Estudar de quais fontes receberemos esses dados."
   ]
  },
  {
   "cell_type": "markdown",
   "metadata": {},
   "source": [
    "### Coleta de dados\n",
    "\n",
    "- Conhecimento da fonte de dados;\n",
    "- Conhecer o formato dos dados;\n",
    "- Pegar dados de varias origens, uni-los e transforma-los para o formato necessario."
   ]
  },
  {
   "cell_type": "markdown",
   "metadata": {},
   "source": []
  }
 ],
 "metadata": {
  "language_info": {
   "name": "python"
  }
 },
 "nbformat": 4,
 "nbformat_minor": 2
}
