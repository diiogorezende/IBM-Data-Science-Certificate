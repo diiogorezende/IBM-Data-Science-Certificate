{
 "cells": [
  {
   "cell_type": "markdown",
   "metadata": {},
   "source": [
    "### Reading Files with __Open__"
   ]
  },
  {
   "cell_type": "code",
   "execution_count": 5,
   "metadata": {
    "ExecuteTime": {
     "end_time": "2024-07-31T20:36:57.585089Z",
     "start_time": "2024-07-31T20:36:57.580616Z"
    }
   },
   "outputs": [
    {
     "name": "stdout",
     "output_type": "stream",
     "text": [
      "car_stocks.csv\n",
      "r\n"
     ]
    }
   ],
   "source": [
    "# Usando a funcao \"Open\" para obter um arquivo. Podemos aplicar algum metodo a este objeto para ler os dados do arquivo.\n",
    "\n",
    "# Para usa-la, passamos para a funcao \"open\" o local do arquivo, o nome do arquivo, e o modo.\n",
    "# \"r\" para leitura, \"w\" para escrita, e \"a\" para acrescentar. Existem tambem outros modos para utilizacao da funcao \"open\".\n",
    "data = open(\"car_stocks.csv\", \"r\")\n",
    "\n",
    "print(data.name) # Exibe o nome do arquivo\n",
    "print(data.mode) # Exibe o modo\n",
    "data.close() # Usado para fechar o arquivo."
   ]
  },
  {
   "cell_type": "code",
   "execution_count": 6,
   "metadata": {
    "ExecuteTime": {
     "end_time": "2024-07-31T20:36:57.608486Z",
     "start_time": "2024-07-31T20:36:57.603323Z"
    }
   },
   "outputs": [
    {
     "name": "stdout",
     "output_type": "stream",
     "text": [
      "Symbol,Date,Open,High,Low,Close,Adj Close,Volume\n",
      "RIVN,2021-11-10,106.750000,119.459999,95.199997,100.730003,100.730003,103679500\n",
      "RIVN,2021-11-11,114.625000,125.000000,108.010002,122.989998,122.989998,83668200\n",
      "RIVN,2021-11-12,128.645004,135.199997,125.250000,129.949997,129.949997,50437500\n",
      "RIVN,2021-11-15,130.800003,152.529999,127.510002,149.360001,149.360001,64982300\n",
      "RIVN,2021-11-16,163.800003,179.470001,153.779999,172.009995,172.009995,94036600\n",
      "RIVN,2021-11-17,160.880005,163.000000,140.350006,146.070007,146.070007,71765600\n",
      "RIVN,2021-11-18,136.809998,138.779999,120.150002,123.379997,123.379997,63603600\n",
      "RIVN,2021-11-19,129.979996,139.899994,125.599998,128.600006,128.600006,49368200\n",
      "RIVN,2021-11-22,123.879997,124.930000,106.910004,118.110001,118.110001,40993900\n",
      "RIVN,2021-11-23,117.830002,124.000000,113.000000,119.849998,119.849998,24967900\n",
      "RIVN,2021-11-24,119.379997,120.000000,113.449997,114.849998,114.849998,11539200\n",
      "RIVN,2021-11-26,111.000000,114.500000,106.139999,112.129997,112.129997,9871200\n",
      "RIVN,2021-11-29,115.849998,122.250000,113.599998,119.769997,119.769997,13897700\n",
      "LCID,2021-11-10,42.299999,45.000000,39.341000,40.750000,40.750000,79342800\n",
      "LCID,2021-11-11,42.750000,45.750000,41.740002,44.980000,44.980000,69846300\n",
      "LCID,2021-11-12,44.000000,45.189999,42.740002,43.930000,43.930000,40899600\n",
      "LCID,2021-11-15,44.599998,46.139999,43.410000,44.880001,44.880001,77111000\n",
      "LCID,2021-11-16,49.930000,55.680000,46.508999,55.520000,55.520000,248654600\n",
      "LCID,2021-11-17,56.200001,57.750000,50.310001,52.549999,52.549999,198386200\n",
      "LCID,2021-11-18,49.029999,49.669998,43.000000,47.049999,47.049999,131634800\n",
      "LCID,2021-11-19,47.160000,55.400002,47.150002,55.209999,55.209999,166276500\n",
      "LCID,2021-11-22,53.035000,57.439999,50.080002,51.119999,51.119999,130761800\n",
      "LCID,2021-11-23,51.674999,54.330002,49.520000,52.439999,52.439999,87998800\n",
      "LCID,2021-11-24,51.740002,53.500000,49.830002,52.570000,52.570000,61225300\n",
      "LCID,2021-11-26,49.450001,52.369999,49.412998,51.720001,51.720001,36708000\n",
      "LCID,2021-11-29,52.029999,55.330002,50.709999,55.060001,55.060001,76581500\n",
      "GM,2021-11-10,57.849998,60.560001,57.730000,59.270000,59.270000,22778600\n",
      "GM,2021-11-11,59.820000,62.150002,59.310001,61.820000,61.820000,29033900\n",
      "GM,2021-11-12,61.590000,64.029999,61.279999,63.400002,63.400002,31142800\n",
      "GM,2021-11-15,63.660000,63.730000,62.630001,62.970001,62.970001,14372100\n",
      "GM,2021-11-16,63.240002,63.279999,61.930000,62.610001,62.610001,16115000\n",
      "GM,2021-11-17,63.330002,65.070000,62.380001,64.610001,64.610001,29983400\n",
      "GM,2021-11-18,64.330002,65.180000,62.090000,62.330002,62.330002,23308100\n",
      "GM,2021-11-19,62.480000,62.970001,61.560001,61.799999,61.799999,19508500\n",
      "GM,2021-11-22,61.950001,64.959999,61.759998,64.059998,64.059998,19836200\n",
      "GM,2021-11-23,63.730000,64.040001,62.259998,63.049999,63.049999,16225100\n",
      "GM,2021-11-24,62.299999,62.599998,61.630001,62.189999,62.189999,12685000\n",
      "GM,2021-11-26,59.799999,60.570000,59.459999,60.169998,60.169998,13272600\n",
      "GM,2021-11-29,61.110001,61.540001,59.650002,59.860001,59.860001,15022400\n",
      "True\n",
      "Symbol,Date,Open,High,Low,Close,Adj Close,Volume\n",
      "RIVN,2021-11-10,106.750000,119.459999,95.199997,100.730003,100.730003,103679500\n",
      "RIVN,2021-11-11,114.625000,125.000000,108.010002,122.989998,122.989998,83668200\n",
      "RIVN,2021-11-12,128.645004,135.199997,125.250000,129.949997,129.949997,50437500\n",
      "RIVN,2021-11-15,130.800003,152.529999,127.510002,149.360001,149.360001,64982300\n",
      "RIVN,2021-11-16,163.800003,179.470001,153.779999,172.009995,172.009995,94036600\n",
      "RIVN,2021-11-17,160.880005,163.000000,140.350006,146.070007,146.070007,71765600\n",
      "RIVN,2021-11-18,136.809998,138.779999,120.150002,123.379997,123.379997,63603600\n",
      "RIVN,2021-11-19,129.979996,139.899994,125.599998,128.600006,128.600006,49368200\n",
      "RIVN,2021-11-22,123.879997,124.930000,106.910004,118.110001,118.110001,40993900\n",
      "RIVN,2021-11-23,117.830002,124.000000,113.000000,119.849998,119.849998,24967900\n",
      "RIVN,2021-11-24,119.379997,120.000000,113.449997,114.849998,114.849998,11539200\n",
      "RIVN,2021-11-26,111.000000,114.500000,106.139999,112.129997,112.129997,9871200\n",
      "RIVN,2021-11-29,115.849998,122.250000,113.599998,119.769997,119.769997,13897700\n",
      "LCID,2021-11-10,42.299999,45.000000,39.341000,40.750000,40.750000,79342800\n",
      "LCID,2021-11-11,42.750000,45.750000,41.740002,44.980000,44.980000,69846300\n",
      "LCID,2021-11-12,44.000000,45.189999,42.740002,43.930000,43.930000,40899600\n",
      "LCID,2021-11-15,44.599998,46.139999,43.410000,44.880001,44.880001,77111000\n",
      "LCID,2021-11-16,49.930000,55.680000,46.508999,55.520000,55.520000,248654600\n",
      "LCID,2021-11-17,56.200001,57.750000,50.310001,52.549999,52.549999,198386200\n",
      "LCID,2021-11-18,49.029999,49.669998,43.000000,47.049999,47.049999,131634800\n",
      "LCID,2021-11-19,47.160000,55.400002,47.150002,55.209999,55.209999,166276500\n",
      "LCID,2021-11-22,53.035000,57.439999,50.080002,51.119999,51.119999,130761800\n",
      "LCID,2021-11-23,51.674999,54.330002,49.520000,52.439999,52.439999,87998800\n",
      "LCID,2021-11-24,51.740002,53.500000,49.830002,52.570000,52.570000,61225300\n",
      "LCID,2021-11-26,49.450001,52.369999,49.412998,51.720001,51.720001,36708000\n",
      "LCID,2021-11-29,52.029999,55.330002,50.709999,55.060001,55.060001,76581500\n",
      "GM,2021-11-10,57.849998,60.560001,57.730000,59.270000,59.270000,22778600\n",
      "GM,2021-11-11,59.820000,62.150002,59.310001,61.820000,61.820000,29033900\n",
      "GM,2021-11-12,61.590000,64.029999,61.279999,63.400002,63.400002,31142800\n",
      "GM,2021-11-15,63.660000,63.730000,62.630001,62.970001,62.970001,14372100\n",
      "GM,2021-11-16,63.240002,63.279999,61.930000,62.610001,62.610001,16115000\n",
      "GM,2021-11-17,63.330002,65.070000,62.380001,64.610001,64.610001,29983400\n",
      "GM,2021-11-18,64.330002,65.180000,62.090000,62.330002,62.330002,23308100\n",
      "GM,2021-11-19,62.480000,62.970001,61.560001,61.799999,61.799999,19508500\n",
      "GM,2021-11-22,61.950001,64.959999,61.759998,64.059998,64.059998,19836200\n",
      "GM,2021-11-23,63.730000,64.040001,62.259998,63.049999,63.049999,16225100\n",
      "GM,2021-11-24,62.299999,62.599998,61.630001,62.189999,62.189999,12685000\n",
      "GM,2021-11-26,59.799999,60.570000,59.459999,60.169998,60.169998,13272600\n",
      "GM,2021-11-29,61.110001,61.540001,59.650002,59.860001,59.860001,15022400\n"
     ]
    }
   ],
   "source": [
    "# Porem, vamos observar agora uma melhor pratica, usando \"with\".\n",
    "\n",
    "with open(\"car_stocks.csv\", \"r\") as data:\n",
    "    arquivo = data.read()\n",
    "    print(arquivo)\n",
    "print(data.closed)\n",
    "print(arquivo)"
   ]
  },
  {
   "cell_type": "markdown",
   "metadata": {},
   "source": [
    "---"
   ]
  },
  {
   "cell_type": "markdown",
   "metadata": {},
   "source": [
    "### Pandas"
   ]
  },
  {
   "cell_type": "markdown",
   "metadata": {},
   "source": [
    "#### Loading data\n",
    "Pandas eh uma biblioteca para analise de dados.\n",
    "\n",
    "Para importa-la, usamos a seguinte declaracao: __import pandas as pd__    -> onde \"pd\" eh o alias."
   ]
  },
  {
   "cell_type": "code",
   "execution_count": 7,
   "metadata": {
    "ExecuteTime": {
     "end_time": "2024-07-31T20:36:58.229334Z",
     "start_time": "2024-07-31T20:36:57.651587Z"
    }
   },
   "outputs": [],
   "source": [
    "# Importando a biblioteca e lendo um arquivo csv\n",
    "# O pandas eh capaz de ler varios tipos de arquivos, como: csv, excel, json, etc.\n",
    "\n",
    "import pandas as pd # O alias pode ser qualquer outro nome, mas geralmente eh usado \"pd\".\n",
    "df = pd.read_csv(\"car_stocks.csv\")"
   ]
  },
  {
   "cell_type": "code",
   "execution_count": 8,
   "metadata": {
    "ExecuteTime": {
     "end_time": "2024-07-31T20:36:58.253541Z",
     "start_time": "2024-07-31T20:36:58.231342Z"
    }
   },
   "outputs": [
    {
     "data": {
      "text/html": [
       "<div>\n",
       "<style scoped>\n",
       "    .dataframe tbody tr th:only-of-type {\n",
       "        vertical-align: middle;\n",
       "    }\n",
       "\n",
       "    .dataframe tbody tr th {\n",
       "        vertical-align: top;\n",
       "    }\n",
       "\n",
       "    .dataframe thead th {\n",
       "        text-align: right;\n",
       "    }\n",
       "</style>\n",
       "<table border=\"1\" class=\"dataframe\">\n",
       "  <thead>\n",
       "    <tr style=\"text-align: right;\">\n",
       "      <th></th>\n",
       "      <th>Symbol</th>\n",
       "      <th>Date</th>\n",
       "      <th>Open</th>\n",
       "      <th>High</th>\n",
       "      <th>Low</th>\n",
       "      <th>Close</th>\n",
       "      <th>Adj Close</th>\n",
       "      <th>Volume</th>\n",
       "    </tr>\n",
       "  </thead>\n",
       "  <tbody>\n",
       "    <tr>\n",
       "      <th>0</th>\n",
       "      <td>RIVN</td>\n",
       "      <td>2021-11-10</td>\n",
       "      <td>106.750000</td>\n",
       "      <td>119.459999</td>\n",
       "      <td>95.199997</td>\n",
       "      <td>100.730003</td>\n",
       "      <td>100.730003</td>\n",
       "      <td>103679500</td>\n",
       "    </tr>\n",
       "    <tr>\n",
       "      <th>1</th>\n",
       "      <td>RIVN</td>\n",
       "      <td>2021-11-11</td>\n",
       "      <td>114.625000</td>\n",
       "      <td>125.000000</td>\n",
       "      <td>108.010002</td>\n",
       "      <td>122.989998</td>\n",
       "      <td>122.989998</td>\n",
       "      <td>83668200</td>\n",
       "    </tr>\n",
       "    <tr>\n",
       "      <th>2</th>\n",
       "      <td>RIVN</td>\n",
       "      <td>2021-11-12</td>\n",
       "      <td>128.645004</td>\n",
       "      <td>135.199997</td>\n",
       "      <td>125.250000</td>\n",
       "      <td>129.949997</td>\n",
       "      <td>129.949997</td>\n",
       "      <td>50437500</td>\n",
       "    </tr>\n",
       "    <tr>\n",
       "      <th>3</th>\n",
       "      <td>RIVN</td>\n",
       "      <td>2021-11-15</td>\n",
       "      <td>130.800003</td>\n",
       "      <td>152.529999</td>\n",
       "      <td>127.510002</td>\n",
       "      <td>149.360001</td>\n",
       "      <td>149.360001</td>\n",
       "      <td>64982300</td>\n",
       "    </tr>\n",
       "    <tr>\n",
       "      <th>4</th>\n",
       "      <td>RIVN</td>\n",
       "      <td>2021-11-16</td>\n",
       "      <td>163.800003</td>\n",
       "      <td>179.470001</td>\n",
       "      <td>153.779999</td>\n",
       "      <td>172.009995</td>\n",
       "      <td>172.009995</td>\n",
       "      <td>94036600</td>\n",
       "    </tr>\n",
       "  </tbody>\n",
       "</table>\n",
       "</div>"
      ],
      "text/plain": [
       "  Symbol        Date        Open        High         Low       Close  \\\n",
       "0   RIVN  2021-11-10  106.750000  119.459999   95.199997  100.730003   \n",
       "1   RIVN  2021-11-11  114.625000  125.000000  108.010002  122.989998   \n",
       "2   RIVN  2021-11-12  128.645004  135.199997  125.250000  129.949997   \n",
       "3   RIVN  2021-11-15  130.800003  152.529999  127.510002  149.360001   \n",
       "4   RIVN  2021-11-16  163.800003  179.470001  153.779999  172.009995   \n",
       "\n",
       "    Adj Close     Volume  \n",
       "0  100.730003  103679500  \n",
       "1  122.989998   83668200  \n",
       "2  129.949997   50437500  \n",
       "3  149.360001   64982300  \n",
       "4  172.009995   94036600  "
      ]
     },
     "execution_count": 8,
     "metadata": {},
     "output_type": "execute_result"
    }
   ],
   "source": [
    "# Visualizar as primeiras linhas de uma DataFrame.\n",
    "df.head() # Por default, \"head\" exibe as primeiras 5 linhas do DF."
   ]
  },
  {
   "cell_type": "code",
   "execution_count": 9,
   "metadata": {
    "ExecuteTime": {
     "end_time": "2024-07-31T20:36:58.263212Z",
     "start_time": "2024-07-31T20:36:58.254545Z"
    }
   },
   "outputs": [
    {
     "data": {
      "text/html": [
       "<div>\n",
       "<style scoped>\n",
       "    .dataframe tbody tr th:only-of-type {\n",
       "        vertical-align: middle;\n",
       "    }\n",
       "\n",
       "    .dataframe tbody tr th {\n",
       "        vertical-align: top;\n",
       "    }\n",
       "\n",
       "    .dataframe thead th {\n",
       "        text-align: right;\n",
       "    }\n",
       "</style>\n",
       "<table border=\"1\" class=\"dataframe\">\n",
       "  <thead>\n",
       "    <tr style=\"text-align: right;\">\n",
       "      <th></th>\n",
       "      <th>Symbol</th>\n",
       "    </tr>\n",
       "  </thead>\n",
       "  <tbody>\n",
       "    <tr>\n",
       "      <th>0</th>\n",
       "      <td>RIVN</td>\n",
       "    </tr>\n",
       "    <tr>\n",
       "      <th>1</th>\n",
       "      <td>RIVN</td>\n",
       "    </tr>\n",
       "    <tr>\n",
       "      <th>2</th>\n",
       "      <td>RIVN</td>\n",
       "    </tr>\n",
       "    <tr>\n",
       "      <th>3</th>\n",
       "      <td>RIVN</td>\n",
       "    </tr>\n",
       "    <tr>\n",
       "      <th>4</th>\n",
       "      <td>RIVN</td>\n",
       "    </tr>\n",
       "  </tbody>\n",
       "</table>\n",
       "</div>"
      ],
      "text/plain": [
       "  Symbol\n",
       "0   RIVN\n",
       "1   RIVN\n",
       "2   RIVN\n",
       "3   RIVN\n",
       "4   RIVN"
      ]
     },
     "execution_count": 9,
     "metadata": {},
     "output_type": "execute_result"
    }
   ],
   "source": [
    "# Podemos copiar algumas colunas do dataframe atribuindo-as a alguma variavel. Para ficar mais claro, vamos a um exemplo\n",
    "\n",
    "x = df[[\"Symbol\"]]\n",
    "x.head()"
   ]
  },
  {
   "cell_type": "code",
   "execution_count": 10,
   "metadata": {
    "ExecuteTime": {
     "end_time": "2024-07-31T20:36:58.276454Z",
     "start_time": "2024-07-31T20:36:58.266217Z"
    }
   },
   "outputs": [
    {
     "data": {
      "text/html": [
       "<div>\n",
       "<style scoped>\n",
       "    .dataframe tbody tr th:only-of-type {\n",
       "        vertical-align: middle;\n",
       "    }\n",
       "\n",
       "    .dataframe tbody tr th {\n",
       "        vertical-align: top;\n",
       "    }\n",
       "\n",
       "    .dataframe thead th {\n",
       "        text-align: right;\n",
       "    }\n",
       "</style>\n",
       "<table border=\"1\" class=\"dataframe\">\n",
       "  <thead>\n",
       "    <tr style=\"text-align: right;\">\n",
       "      <th></th>\n",
       "      <th>Date</th>\n",
       "      <th>Open</th>\n",
       "      <th>Volume</th>\n",
       "    </tr>\n",
       "  </thead>\n",
       "  <tbody>\n",
       "    <tr>\n",
       "      <th>0</th>\n",
       "      <td>2021-11-10</td>\n",
       "      <td>106.750000</td>\n",
       "      <td>103679500</td>\n",
       "    </tr>\n",
       "    <tr>\n",
       "      <th>1</th>\n",
       "      <td>2021-11-11</td>\n",
       "      <td>114.625000</td>\n",
       "      <td>83668200</td>\n",
       "    </tr>\n",
       "    <tr>\n",
       "      <th>2</th>\n",
       "      <td>2021-11-12</td>\n",
       "      <td>128.645004</td>\n",
       "      <td>50437500</td>\n",
       "    </tr>\n",
       "    <tr>\n",
       "      <th>3</th>\n",
       "      <td>2021-11-15</td>\n",
       "      <td>130.800003</td>\n",
       "      <td>64982300</td>\n",
       "    </tr>\n",
       "    <tr>\n",
       "      <th>4</th>\n",
       "      <td>2021-11-16</td>\n",
       "      <td>163.800003</td>\n",
       "      <td>94036600</td>\n",
       "    </tr>\n",
       "  </tbody>\n",
       "</table>\n",
       "</div>"
      ],
      "text/plain": [
       "         Date        Open     Volume\n",
       "0  2021-11-10  106.750000  103679500\n",
       "1  2021-11-11  114.625000   83668200\n",
       "2  2021-11-12  128.645004   50437500\n",
       "3  2021-11-15  130.800003   64982300\n",
       "4  2021-11-16  163.800003   94036600"
      ]
     },
     "execution_count": 10,
     "metadata": {},
     "output_type": "execute_result"
    }
   ],
   "source": [
    "# Podemos tambem copiar varias colunas do dataframe.\n",
    "\n",
    "y = df[[\"Date\", \"Open\", \"Volume\"]]\n",
    "y.head()"
   ]
  },
  {
   "cell_type": "code",
   "execution_count": 11,
   "metadata": {
    "ExecuteTime": {
     "end_time": "2024-07-31T20:36:58.282980Z",
     "start_time": "2024-07-31T20:36:58.277495Z"
    }
   },
   "outputs": [
    {
     "name": "stdout",
     "output_type": "stream",
     "text": [
      "RIVN\n",
      "RIVN\n",
      "106.75\n"
     ]
    }
   ],
   "source": [
    "# Podemos acessar valores do dataframe usando o metodo \"iloc\". No metodo \"iloc\", o primeiro argumento representa o index da linha\n",
    "# e o segundo elemento representa o index da coluna.\n",
    "print(df.iloc[0, 0]) # Primeira linha, primeira coluna\n",
    "print(df.iloc[1, 0]) # Segunda linha, primeira coluna\n",
    "print(df.iloc[0, 2]) # Primeira linha, terceira coluna"
   ]
  },
  {
   "cell_type": "code",
   "execution_count": 12,
   "metadata": {
    "ExecuteTime": {
     "end_time": "2024-07-31T20:36:58.289676Z",
     "start_time": "2024-07-31T20:36:58.283980Z"
    }
   },
   "outputs": [
    {
     "name": "stdout",
     "output_type": "stream",
     "text": [
      "2021-11-10\n",
      "83668200\n"
     ]
    }
   ],
   "source": [
    "# Tambem podemos acessar elementos usando o metodo \"loc\". Nele, o primeiro argumento eh a linha, e o segundo eh o nome da coluna.\n",
    "print(df.loc[0, \"Date\"])\n",
    "print(df.loc[1, \"Volume\"])"
   ]
  },
  {
   "cell_type": "code",
   "execution_count": 13,
   "metadata": {
    "ExecuteTime": {
     "end_time": "2024-07-31T20:36:58.302088Z",
     "start_time": "2024-07-31T20:36:58.290680Z"
    }
   },
   "outputs": [
    {
     "data": {
      "text/html": [
       "<div>\n",
       "<style scoped>\n",
       "    .dataframe tbody tr th:only-of-type {\n",
       "        vertical-align: middle;\n",
       "    }\n",
       "\n",
       "    .dataframe tbody tr th {\n",
       "        vertical-align: top;\n",
       "    }\n",
       "\n",
       "    .dataframe thead th {\n",
       "        text-align: right;\n",
       "    }\n",
       "</style>\n",
       "<table border=\"1\" class=\"dataframe\">\n",
       "  <thead>\n",
       "    <tr style=\"text-align: right;\">\n",
       "      <th></th>\n",
       "      <th>Symbol</th>\n",
       "      <th>Date</th>\n",
       "      <th>Open</th>\n",
       "    </tr>\n",
       "  </thead>\n",
       "  <tbody>\n",
       "    <tr>\n",
       "      <th>0</th>\n",
       "      <td>RIVN</td>\n",
       "      <td>2021-11-10</td>\n",
       "      <td>106.750000</td>\n",
       "    </tr>\n",
       "    <tr>\n",
       "      <th>1</th>\n",
       "      <td>RIVN</td>\n",
       "      <td>2021-11-11</td>\n",
       "      <td>114.625000</td>\n",
       "    </tr>\n",
       "    <tr>\n",
       "      <th>2</th>\n",
       "      <td>RIVN</td>\n",
       "      <td>2021-11-12</td>\n",
       "      <td>128.645004</td>\n",
       "    </tr>\n",
       "    <tr>\n",
       "      <th>3</th>\n",
       "      <td>RIVN</td>\n",
       "      <td>2021-11-15</td>\n",
       "      <td>130.800003</td>\n",
       "    </tr>\n",
       "    <tr>\n",
       "      <th>4</th>\n",
       "      <td>RIVN</td>\n",
       "      <td>2021-11-16</td>\n",
       "      <td>163.800003</td>\n",
       "    </tr>\n",
       "    <tr>\n",
       "      <th>5</th>\n",
       "      <td>RIVN</td>\n",
       "      <td>2021-11-17</td>\n",
       "      <td>160.880005</td>\n",
       "    </tr>\n",
       "    <tr>\n",
       "      <th>6</th>\n",
       "      <td>RIVN</td>\n",
       "      <td>2021-11-18</td>\n",
       "      <td>136.809998</td>\n",
       "    </tr>\n",
       "    <tr>\n",
       "      <th>7</th>\n",
       "      <td>RIVN</td>\n",
       "      <td>2021-11-19</td>\n",
       "      <td>129.979996</td>\n",
       "    </tr>\n",
       "    <tr>\n",
       "      <th>8</th>\n",
       "      <td>RIVN</td>\n",
       "      <td>2021-11-22</td>\n",
       "      <td>123.879997</td>\n",
       "    </tr>\n",
       "    <tr>\n",
       "      <th>9</th>\n",
       "      <td>RIVN</td>\n",
       "      <td>2021-11-23</td>\n",
       "      <td>117.830002</td>\n",
       "    </tr>\n",
       "    <tr>\n",
       "      <th>10</th>\n",
       "      <td>RIVN</td>\n",
       "      <td>2021-11-24</td>\n",
       "      <td>119.379997</td>\n",
       "    </tr>\n",
       "    <tr>\n",
       "      <th>11</th>\n",
       "      <td>RIVN</td>\n",
       "      <td>2021-11-26</td>\n",
       "      <td>111.000000</td>\n",
       "    </tr>\n",
       "    <tr>\n",
       "      <th>12</th>\n",
       "      <td>RIVN</td>\n",
       "      <td>2021-11-29</td>\n",
       "      <td>115.849998</td>\n",
       "    </tr>\n",
       "    <tr>\n",
       "      <th>13</th>\n",
       "      <td>LCID</td>\n",
       "      <td>2021-11-10</td>\n",
       "      <td>42.299999</td>\n",
       "    </tr>\n",
       "    <tr>\n",
       "      <th>14</th>\n",
       "      <td>LCID</td>\n",
       "      <td>2021-11-11</td>\n",
       "      <td>42.750000</td>\n",
       "    </tr>\n",
       "    <tr>\n",
       "      <th>15</th>\n",
       "      <td>LCID</td>\n",
       "      <td>2021-11-12</td>\n",
       "      <td>44.000000</td>\n",
       "    </tr>\n",
       "    <tr>\n",
       "      <th>16</th>\n",
       "      <td>LCID</td>\n",
       "      <td>2021-11-15</td>\n",
       "      <td>44.599998</td>\n",
       "    </tr>\n",
       "    <tr>\n",
       "      <th>17</th>\n",
       "      <td>LCID</td>\n",
       "      <td>2021-11-16</td>\n",
       "      <td>49.930000</td>\n",
       "    </tr>\n",
       "    <tr>\n",
       "      <th>18</th>\n",
       "      <td>LCID</td>\n",
       "      <td>2021-11-17</td>\n",
       "      <td>56.200001</td>\n",
       "    </tr>\n",
       "    <tr>\n",
       "      <th>19</th>\n",
       "      <td>LCID</td>\n",
       "      <td>2021-11-18</td>\n",
       "      <td>49.029999</td>\n",
       "    </tr>\n",
       "  </tbody>\n",
       "</table>\n",
       "</div>"
      ],
      "text/plain": [
       "   Symbol        Date        Open\n",
       "0    RIVN  2021-11-10  106.750000\n",
       "1    RIVN  2021-11-11  114.625000\n",
       "2    RIVN  2021-11-12  128.645004\n",
       "3    RIVN  2021-11-15  130.800003\n",
       "4    RIVN  2021-11-16  163.800003\n",
       "5    RIVN  2021-11-17  160.880005\n",
       "6    RIVN  2021-11-18  136.809998\n",
       "7    RIVN  2021-11-19  129.979996\n",
       "8    RIVN  2021-11-22  123.879997\n",
       "9    RIVN  2021-11-23  117.830002\n",
       "10   RIVN  2021-11-24  119.379997\n",
       "11   RIVN  2021-11-26  111.000000\n",
       "12   RIVN  2021-11-29  115.849998\n",
       "13   LCID  2021-11-10   42.299999\n",
       "14   LCID  2021-11-11   42.750000\n",
       "15   LCID  2021-11-12   44.000000\n",
       "16   LCID  2021-11-15   44.599998\n",
       "17   LCID  2021-11-16   49.930000\n",
       "18   LCID  2021-11-17   56.200001\n",
       "19   LCID  2021-11-18   49.029999"
      ]
     },
     "execution_count": 13,
     "metadata": {},
     "output_type": "execute_result"
    }
   ],
   "source": [
    "# Podemos realizar slices do dataframe e instancia-los a uma nova variavel.\n",
    "# Esse tipo de slice pode ser feito usando \"iloc\" e \"loc\".\n",
    "\n",
    "z = df.iloc[:20, :3] # Pega todas as primeiras 20 linhas, e as 3 primeiras colunas.\n",
    "z"
   ]
  },
  {
   "cell_type": "code",
   "execution_count": 14,
   "metadata": {
    "ExecuteTime": {
     "end_time": "2024-07-31T20:36:58.308881Z",
     "start_time": "2024-07-31T20:36:58.303092Z"
    }
   },
   "outputs": [
    {
     "data": {
      "text/plain": [
       "array(['RIVN', 'LCID', 'GM'], dtype=object)"
      ]
     },
     "execution_count": 14,
     "metadata": {},
     "output_type": "execute_result"
    }
   ],
   "source": [
    "# Quando queremos observar quais sao os valores unicos em uma coluna, usamos o metodo \"unique\".\n",
    "\n",
    "df[\"Symbol\"].unique()"
   ]
  },
  {
   "cell_type": "code",
   "execution_count": 15,
   "metadata": {
    "ExecuteTime": {
     "end_time": "2024-07-31T20:36:58.316992Z",
     "start_time": "2024-07-31T20:36:58.309945Z"
    }
   },
   "outputs": [
    {
     "data": {
      "text/plain": [
       "0      True\n",
       "1     False\n",
       "2     False\n",
       "3     False\n",
       "4     False\n",
       "5     False\n",
       "6     False\n",
       "7     False\n",
       "8     False\n",
       "9     False\n",
       "10    False\n",
       "11    False\n",
       "12    False\n",
       "13     True\n",
       "14     True\n",
       "15     True\n",
       "16     True\n",
       "17     True\n",
       "18     True\n",
       "19     True\n",
       "20     True\n",
       "21     True\n",
       "22     True\n",
       "23     True\n",
       "24     True\n",
       "25     True\n",
       "26     True\n",
       "27     True\n",
       "28     True\n",
       "29     True\n",
       "30     True\n",
       "31     True\n",
       "32     True\n",
       "33     True\n",
       "34     True\n",
       "35     True\n",
       "36     True\n",
       "37     True\n",
       "38     True\n",
       "Name: Low, dtype: bool"
      ]
     },
     "execution_count": 15,
     "metadata": {},
     "output_type": "execute_result"
    }
   ],
   "source": [
    "# Podemos fazer um filtro booleano para as colunas.\n",
    "# Ao fazer o filtro abaixo, receberemos uma serie de valores booleanos. Receberemos \"True\" quando a condicao for atendida, e \"False\"\n",
    "# quando a condicao nao for atendida.\n",
    "df[\"Low\"] < 99\n"
   ]
  },
  {
   "cell_type": "code",
   "execution_count": 16,
   "metadata": {
    "ExecuteTime": {
     "end_time": "2024-07-31T20:36:58.336663Z",
     "start_time": "2024-07-31T20:36:58.319997Z"
    }
   },
   "outputs": [
    {
     "data": {
      "text/html": [
       "<div>\n",
       "<style scoped>\n",
       "    .dataframe tbody tr th:only-of-type {\n",
       "        vertical-align: middle;\n",
       "    }\n",
       "\n",
       "    .dataframe tbody tr th {\n",
       "        vertical-align: top;\n",
       "    }\n",
       "\n",
       "    .dataframe thead th {\n",
       "        text-align: right;\n",
       "    }\n",
       "</style>\n",
       "<table border=\"1\" class=\"dataframe\">\n",
       "  <thead>\n",
       "    <tr style=\"text-align: right;\">\n",
       "      <th></th>\n",
       "      <th>Symbol</th>\n",
       "      <th>Date</th>\n",
       "      <th>Open</th>\n",
       "      <th>High</th>\n",
       "      <th>Low</th>\n",
       "      <th>Close</th>\n",
       "      <th>Adj Close</th>\n",
       "      <th>Volume</th>\n",
       "    </tr>\n",
       "  </thead>\n",
       "  <tbody>\n",
       "    <tr>\n",
       "      <th>0</th>\n",
       "      <td>RIVN</td>\n",
       "      <td>2021-11-10</td>\n",
       "      <td>106.750000</td>\n",
       "      <td>119.459999</td>\n",
       "      <td>95.199997</td>\n",
       "      <td>100.730003</td>\n",
       "      <td>100.730003</td>\n",
       "      <td>103679500</td>\n",
       "    </tr>\n",
       "    <tr>\n",
       "      <th>13</th>\n",
       "      <td>LCID</td>\n",
       "      <td>2021-11-10</td>\n",
       "      <td>42.299999</td>\n",
       "      <td>45.000000</td>\n",
       "      <td>39.341000</td>\n",
       "      <td>40.750000</td>\n",
       "      <td>40.750000</td>\n",
       "      <td>79342800</td>\n",
       "    </tr>\n",
       "    <tr>\n",
       "      <th>14</th>\n",
       "      <td>LCID</td>\n",
       "      <td>2021-11-11</td>\n",
       "      <td>42.750000</td>\n",
       "      <td>45.750000</td>\n",
       "      <td>41.740002</td>\n",
       "      <td>44.980000</td>\n",
       "      <td>44.980000</td>\n",
       "      <td>69846300</td>\n",
       "    </tr>\n",
       "    <tr>\n",
       "      <th>15</th>\n",
       "      <td>LCID</td>\n",
       "      <td>2021-11-12</td>\n",
       "      <td>44.000000</td>\n",
       "      <td>45.189999</td>\n",
       "      <td>42.740002</td>\n",
       "      <td>43.930000</td>\n",
       "      <td>43.930000</td>\n",
       "      <td>40899600</td>\n",
       "    </tr>\n",
       "    <tr>\n",
       "      <th>16</th>\n",
       "      <td>LCID</td>\n",
       "      <td>2021-11-15</td>\n",
       "      <td>44.599998</td>\n",
       "      <td>46.139999</td>\n",
       "      <td>43.410000</td>\n",
       "      <td>44.880001</td>\n",
       "      <td>44.880001</td>\n",
       "      <td>77111000</td>\n",
       "    </tr>\n",
       "    <tr>\n",
       "      <th>17</th>\n",
       "      <td>LCID</td>\n",
       "      <td>2021-11-16</td>\n",
       "      <td>49.930000</td>\n",
       "      <td>55.680000</td>\n",
       "      <td>46.508999</td>\n",
       "      <td>55.520000</td>\n",
       "      <td>55.520000</td>\n",
       "      <td>248654600</td>\n",
       "    </tr>\n",
       "    <tr>\n",
       "      <th>18</th>\n",
       "      <td>LCID</td>\n",
       "      <td>2021-11-17</td>\n",
       "      <td>56.200001</td>\n",
       "      <td>57.750000</td>\n",
       "      <td>50.310001</td>\n",
       "      <td>52.549999</td>\n",
       "      <td>52.549999</td>\n",
       "      <td>198386200</td>\n",
       "    </tr>\n",
       "    <tr>\n",
       "      <th>19</th>\n",
       "      <td>LCID</td>\n",
       "      <td>2021-11-18</td>\n",
       "      <td>49.029999</td>\n",
       "      <td>49.669998</td>\n",
       "      <td>43.000000</td>\n",
       "      <td>47.049999</td>\n",
       "      <td>47.049999</td>\n",
       "      <td>131634800</td>\n",
       "    </tr>\n",
       "    <tr>\n",
       "      <th>20</th>\n",
       "      <td>LCID</td>\n",
       "      <td>2021-11-19</td>\n",
       "      <td>47.160000</td>\n",
       "      <td>55.400002</td>\n",
       "      <td>47.150002</td>\n",
       "      <td>55.209999</td>\n",
       "      <td>55.209999</td>\n",
       "      <td>166276500</td>\n",
       "    </tr>\n",
       "    <tr>\n",
       "      <th>21</th>\n",
       "      <td>LCID</td>\n",
       "      <td>2021-11-22</td>\n",
       "      <td>53.035000</td>\n",
       "      <td>57.439999</td>\n",
       "      <td>50.080002</td>\n",
       "      <td>51.119999</td>\n",
       "      <td>51.119999</td>\n",
       "      <td>130761800</td>\n",
       "    </tr>\n",
       "    <tr>\n",
       "      <th>22</th>\n",
       "      <td>LCID</td>\n",
       "      <td>2021-11-23</td>\n",
       "      <td>51.674999</td>\n",
       "      <td>54.330002</td>\n",
       "      <td>49.520000</td>\n",
       "      <td>52.439999</td>\n",
       "      <td>52.439999</td>\n",
       "      <td>87998800</td>\n",
       "    </tr>\n",
       "    <tr>\n",
       "      <th>23</th>\n",
       "      <td>LCID</td>\n",
       "      <td>2021-11-24</td>\n",
       "      <td>51.740002</td>\n",
       "      <td>53.500000</td>\n",
       "      <td>49.830002</td>\n",
       "      <td>52.570000</td>\n",
       "      <td>52.570000</td>\n",
       "      <td>61225300</td>\n",
       "    </tr>\n",
       "    <tr>\n",
       "      <th>24</th>\n",
       "      <td>LCID</td>\n",
       "      <td>2021-11-26</td>\n",
       "      <td>49.450001</td>\n",
       "      <td>52.369999</td>\n",
       "      <td>49.412998</td>\n",
       "      <td>51.720001</td>\n",
       "      <td>51.720001</td>\n",
       "      <td>36708000</td>\n",
       "    </tr>\n",
       "    <tr>\n",
       "      <th>25</th>\n",
       "      <td>LCID</td>\n",
       "      <td>2021-11-29</td>\n",
       "      <td>52.029999</td>\n",
       "      <td>55.330002</td>\n",
       "      <td>50.709999</td>\n",
       "      <td>55.060001</td>\n",
       "      <td>55.060001</td>\n",
       "      <td>76581500</td>\n",
       "    </tr>\n",
       "    <tr>\n",
       "      <th>26</th>\n",
       "      <td>GM</td>\n",
       "      <td>2021-11-10</td>\n",
       "      <td>57.849998</td>\n",
       "      <td>60.560001</td>\n",
       "      <td>57.730000</td>\n",
       "      <td>59.270000</td>\n",
       "      <td>59.270000</td>\n",
       "      <td>22778600</td>\n",
       "    </tr>\n",
       "    <tr>\n",
       "      <th>27</th>\n",
       "      <td>GM</td>\n",
       "      <td>2021-11-11</td>\n",
       "      <td>59.820000</td>\n",
       "      <td>62.150002</td>\n",
       "      <td>59.310001</td>\n",
       "      <td>61.820000</td>\n",
       "      <td>61.820000</td>\n",
       "      <td>29033900</td>\n",
       "    </tr>\n",
       "    <tr>\n",
       "      <th>28</th>\n",
       "      <td>GM</td>\n",
       "      <td>2021-11-12</td>\n",
       "      <td>61.590000</td>\n",
       "      <td>64.029999</td>\n",
       "      <td>61.279999</td>\n",
       "      <td>63.400002</td>\n",
       "      <td>63.400002</td>\n",
       "      <td>31142800</td>\n",
       "    </tr>\n",
       "    <tr>\n",
       "      <th>29</th>\n",
       "      <td>GM</td>\n",
       "      <td>2021-11-15</td>\n",
       "      <td>63.660000</td>\n",
       "      <td>63.730000</td>\n",
       "      <td>62.630001</td>\n",
       "      <td>62.970001</td>\n",
       "      <td>62.970001</td>\n",
       "      <td>14372100</td>\n",
       "    </tr>\n",
       "    <tr>\n",
       "      <th>30</th>\n",
       "      <td>GM</td>\n",
       "      <td>2021-11-16</td>\n",
       "      <td>63.240002</td>\n",
       "      <td>63.279999</td>\n",
       "      <td>61.930000</td>\n",
       "      <td>62.610001</td>\n",
       "      <td>62.610001</td>\n",
       "      <td>16115000</td>\n",
       "    </tr>\n",
       "    <tr>\n",
       "      <th>31</th>\n",
       "      <td>GM</td>\n",
       "      <td>2021-11-17</td>\n",
       "      <td>63.330002</td>\n",
       "      <td>65.070000</td>\n",
       "      <td>62.380001</td>\n",
       "      <td>64.610001</td>\n",
       "      <td>64.610001</td>\n",
       "      <td>29983400</td>\n",
       "    </tr>\n",
       "    <tr>\n",
       "      <th>32</th>\n",
       "      <td>GM</td>\n",
       "      <td>2021-11-18</td>\n",
       "      <td>64.330002</td>\n",
       "      <td>65.180000</td>\n",
       "      <td>62.090000</td>\n",
       "      <td>62.330002</td>\n",
       "      <td>62.330002</td>\n",
       "      <td>23308100</td>\n",
       "    </tr>\n",
       "    <tr>\n",
       "      <th>33</th>\n",
       "      <td>GM</td>\n",
       "      <td>2021-11-19</td>\n",
       "      <td>62.480000</td>\n",
       "      <td>62.970001</td>\n",
       "      <td>61.560001</td>\n",
       "      <td>61.799999</td>\n",
       "      <td>61.799999</td>\n",
       "      <td>19508500</td>\n",
       "    </tr>\n",
       "    <tr>\n",
       "      <th>34</th>\n",
       "      <td>GM</td>\n",
       "      <td>2021-11-22</td>\n",
       "      <td>61.950001</td>\n",
       "      <td>64.959999</td>\n",
       "      <td>61.759998</td>\n",
       "      <td>64.059998</td>\n",
       "      <td>64.059998</td>\n",
       "      <td>19836200</td>\n",
       "    </tr>\n",
       "    <tr>\n",
       "      <th>35</th>\n",
       "      <td>GM</td>\n",
       "      <td>2021-11-23</td>\n",
       "      <td>63.730000</td>\n",
       "      <td>64.040001</td>\n",
       "      <td>62.259998</td>\n",
       "      <td>63.049999</td>\n",
       "      <td>63.049999</td>\n",
       "      <td>16225100</td>\n",
       "    </tr>\n",
       "    <tr>\n",
       "      <th>36</th>\n",
       "      <td>GM</td>\n",
       "      <td>2021-11-24</td>\n",
       "      <td>62.299999</td>\n",
       "      <td>62.599998</td>\n",
       "      <td>61.630001</td>\n",
       "      <td>62.189999</td>\n",
       "      <td>62.189999</td>\n",
       "      <td>12685000</td>\n",
       "    </tr>\n",
       "    <tr>\n",
       "      <th>37</th>\n",
       "      <td>GM</td>\n",
       "      <td>2021-11-26</td>\n",
       "      <td>59.799999</td>\n",
       "      <td>60.570000</td>\n",
       "      <td>59.459999</td>\n",
       "      <td>60.169998</td>\n",
       "      <td>60.169998</td>\n",
       "      <td>13272600</td>\n",
       "    </tr>\n",
       "    <tr>\n",
       "      <th>38</th>\n",
       "      <td>GM</td>\n",
       "      <td>2021-11-29</td>\n",
       "      <td>61.110001</td>\n",
       "      <td>61.540001</td>\n",
       "      <td>59.650002</td>\n",
       "      <td>59.860001</td>\n",
       "      <td>59.860001</td>\n",
       "      <td>15022400</td>\n",
       "    </tr>\n",
       "  </tbody>\n",
       "</table>\n",
       "</div>"
      ],
      "text/plain": [
       "   Symbol        Date        Open        High        Low       Close  \\\n",
       "0    RIVN  2021-11-10  106.750000  119.459999  95.199997  100.730003   \n",
       "13   LCID  2021-11-10   42.299999   45.000000  39.341000   40.750000   \n",
       "14   LCID  2021-11-11   42.750000   45.750000  41.740002   44.980000   \n",
       "15   LCID  2021-11-12   44.000000   45.189999  42.740002   43.930000   \n",
       "16   LCID  2021-11-15   44.599998   46.139999  43.410000   44.880001   \n",
       "17   LCID  2021-11-16   49.930000   55.680000  46.508999   55.520000   \n",
       "18   LCID  2021-11-17   56.200001   57.750000  50.310001   52.549999   \n",
       "19   LCID  2021-11-18   49.029999   49.669998  43.000000   47.049999   \n",
       "20   LCID  2021-11-19   47.160000   55.400002  47.150002   55.209999   \n",
       "21   LCID  2021-11-22   53.035000   57.439999  50.080002   51.119999   \n",
       "22   LCID  2021-11-23   51.674999   54.330002  49.520000   52.439999   \n",
       "23   LCID  2021-11-24   51.740002   53.500000  49.830002   52.570000   \n",
       "24   LCID  2021-11-26   49.450001   52.369999  49.412998   51.720001   \n",
       "25   LCID  2021-11-29   52.029999   55.330002  50.709999   55.060001   \n",
       "26     GM  2021-11-10   57.849998   60.560001  57.730000   59.270000   \n",
       "27     GM  2021-11-11   59.820000   62.150002  59.310001   61.820000   \n",
       "28     GM  2021-11-12   61.590000   64.029999  61.279999   63.400002   \n",
       "29     GM  2021-11-15   63.660000   63.730000  62.630001   62.970001   \n",
       "30     GM  2021-11-16   63.240002   63.279999  61.930000   62.610001   \n",
       "31     GM  2021-11-17   63.330002   65.070000  62.380001   64.610001   \n",
       "32     GM  2021-11-18   64.330002   65.180000  62.090000   62.330002   \n",
       "33     GM  2021-11-19   62.480000   62.970001  61.560001   61.799999   \n",
       "34     GM  2021-11-22   61.950001   64.959999  61.759998   64.059998   \n",
       "35     GM  2021-11-23   63.730000   64.040001  62.259998   63.049999   \n",
       "36     GM  2021-11-24   62.299999   62.599998  61.630001   62.189999   \n",
       "37     GM  2021-11-26   59.799999   60.570000  59.459999   60.169998   \n",
       "38     GM  2021-11-29   61.110001   61.540001  59.650002   59.860001   \n",
       "\n",
       "     Adj Close     Volume  \n",
       "0   100.730003  103679500  \n",
       "13   40.750000   79342800  \n",
       "14   44.980000   69846300  \n",
       "15   43.930000   40899600  \n",
       "16   44.880001   77111000  \n",
       "17   55.520000  248654600  \n",
       "18   52.549999  198386200  \n",
       "19   47.049999  131634800  \n",
       "20   55.209999  166276500  \n",
       "21   51.119999  130761800  \n",
       "22   52.439999   87998800  \n",
       "23   52.570000   61225300  \n",
       "24   51.720001   36708000  \n",
       "25   55.060001   76581500  \n",
       "26   59.270000   22778600  \n",
       "27   61.820000   29033900  \n",
       "28   63.400002   31142800  \n",
       "29   62.970001   14372100  \n",
       "30   62.610001   16115000  \n",
       "31   64.610001   29983400  \n",
       "32   62.330002   23308100  \n",
       "33   61.799999   19508500  \n",
       "34   64.059998   19836200  \n",
       "35   63.049999   16225100  \n",
       "36   62.189999   12685000  \n",
       "37   60.169998   13272600  \n",
       "38   59.860001   15022400  "
      ]
     },
     "execution_count": 16,
     "metadata": {},
     "output_type": "execute_result"
    }
   ],
   "source": [
    "# Mas podemos fazer essa selecao de uma maneeira mais util.\n",
    "# Neste exemplo abaixo, estamos fazendo um filtro do df na variavel Low para valores menores do que 99. Fazendo dessa forma,\n",
    "# obtemos os dados de todas as linhas e colunas onde a condicao do filtro eh atendido.\n",
    "\n",
    "testando = df[df[\"Low\"] < 99]\n",
    "testando"
   ]
  },
  {
   "cell_type": "code",
   "execution_count": 17,
   "metadata": {
    "ExecuteTime": {
     "end_time": "2024-07-31T20:36:58.344690Z",
     "start_time": "2024-07-31T20:36:58.337733Z"
    }
   },
   "outputs": [],
   "source": [
    "# Para salvar esse arquivo filtrado, fazemos da seguinte forma:\n",
    "testando_csv = testando.to_csv(\"testando.csv\")"
   ]
  },
  {
   "cell_type": "markdown",
   "metadata": {},
   "source": [
    "Alguns atributos e metodos que podem ser uteis:\n",
    "- __values__: retorna a serie como um array numpy;\n",
    "- __index__: retorna o index da serie;\n",
    "- __shape__: retorna um tupla com as dimensoes do DF;\n",
    "- __size__: retorna o numero de elementos na serie;\n",
    "- __mean__, __sum__, __max__, __min__: retorna o calculo dessas medidas;\n",
    "- __unique__, __nunique__: retorna os valores unicos ou o numero de valores unicos;\n",
    "- __sort_values__, __sort_index__: ordena a serie pelos valores ou index;\n",
    "- __isnull__, __notnull__: Verifica a presenca de NaN ou de nao nulos;\n",
    "- __apply__: aplica uma funcao a cada elemento da serie."
   ]
  },
  {
   "cell_type": "code",
   "metadata": {
    "ExecuteTime": {
     "end_time": "2024-08-01T22:45:33.401760Z",
     "start_time": "2024-08-01T22:45:33.258657Z"
    }
   },
   "source": [
    "import numpy as np"
   ],
   "outputs": [],
   "execution_count": 1
  },
  {
   "cell_type": "code",
   "metadata": {
    "ExecuteTime": {
     "end_time": "2024-08-01T22:53:59.272126Z",
     "start_time": "2024-08-01T22:53:59.253420Z"
    }
   },
   "source": [
    "a = np.array([0, 1])\n",
    "b = np.array([1, 0])\n",
    "c = np.dot(a, b)\n",
    "c"
   ],
   "outputs": [
    {
     "data": {
      "text/plain": [
       "0"
      ]
     },
     "execution_count": 8,
     "metadata": {},
     "output_type": "execute_result"
    }
   ],
   "execution_count": 8
  },
  {
   "metadata": {
    "ExecuteTime": {
     "end_time": "2024-08-01T22:49:35.659374Z",
     "start_time": "2024-08-01T22:49:35.648364Z"
    }
   },
   "cell_type": "code",
   "source": [
    "x = np.array([[1, 0], [0, 1]])\n",
    "y = np.array([[2, 2], [2, 2]])\n",
    "z = np.dot(x, y)\n",
    "z"
   ],
   "outputs": [
    {
     "data": {
      "text/plain": [
       "array([[2, 2],\n",
       "       [2, 2]])"
      ]
     },
     "execution_count": 5,
     "metadata": {},
     "output_type": "execute_result"
    }
   ],
   "execution_count": 5
  },
  {
   "metadata": {
    "ExecuteTime": {
     "end_time": "2024-08-01T22:55:50.061920Z",
     "start_time": "2024-08-01T22:55:50.047197Z"
    }
   },
   "cell_type": "code",
   "source": [
    "X=np.array([[1,0],[0,1]])\n",
    "\n",
    "Y=np.array([[2,2],[2,2]]) \n",
    "\n",
    "Z=np.dot(X,Y)\n",
    "Z"
   ],
   "outputs": [
    {
     "data": {
      "text/plain": [
       "array([[2, 2],\n",
       "       [2, 2]])"
      ]
     },
     "execution_count": 11,
     "metadata": {},
     "output_type": "execute_result"
    }
   ],
   "execution_count": 11
  }
 ],
 "metadata": {
  "kernelspec": {
   "display_name": "base",
   "language": "python",
   "name": "python3"
  },
  "language_info": {
   "codemirror_mode": {
    "name": "ipython",
    "version": 3
   },
   "file_extension": ".py",
   "mimetype": "text/x-python",
   "name": "python",
   "nbconvert_exporter": "python",
   "pygments_lexer": "ipython3",
   "version": "3.11.5"
  }
 },
 "nbformat": 4,
 "nbformat_minor": 2
}
