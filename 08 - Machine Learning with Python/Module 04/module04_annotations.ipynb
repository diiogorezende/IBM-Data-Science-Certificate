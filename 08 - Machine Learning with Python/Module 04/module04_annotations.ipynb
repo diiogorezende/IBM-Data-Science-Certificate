{
 "cells": [
  {
   "metadata": {},
   "cell_type": "markdown",
   "source": [
    "# Regressao Logistica\n",
    "Eh uma tecnica estatistica e de machine learning usada para problemas de classificacao binaria ou multi-classe.\n",
    "\n",
    "Usamos a regressao logistica quando precisamos de resultados probabilisticos, pois ela retorna como resultado probabilidades entre 0 e 1. Tambem usamos quando os dados sao linearmente separaveis.\n",
    "\n",
    "$$\n",
    "p = \\frac{1}{1 + e^{-(\\beta_0 + \\beta_1x_1 + \\beta_2x_2 + \\dots + \\beta_nx_n)}}\n",
    "$$\n",
    "- p = probabilidade de pertencer a determinada classe\n",
    "- e = número de Euler\n",
    "- b0 = intercepto\n",
    "- bn = constante\n",
    "- xn = variáveis dependentes\n",
    "\n",
    "No caso da __Regressão Logística__, a função de custo para quantificar o erro entre as previsões e os valores reais, é a que segue abaixo:\n",
    "\n",
    "$$\n",
    "J(\\theta) = - \\frac{1}{m} \\sum_{i=1}^{m} \\left[y^{(i)}\\log(h_\\theta(x^{(i)})) + (1 - y^{(i)}) \\log(1 - h_\\theta(x^{(i)})) \\right]\n",
    "$$\n",
    "\n",
    "Onde:\n",
    "- m = número de amostras\n",
    "- yi = rótulo real da amostra\n",
    "- h_theta(x^i) = predição realizada pelo modelo para determinada amostra\n",
    "- theta = parâmetros do modelo.\n",
    "\n",
    "**OBS:** A função de custo é utilizada para quantificar o erro entre as previsões realizadas pelo modelo e os valores reais, permitindo que o modelo aprenda durante o processo de treinamento."
   ],
   "id": "89330d994e15fd7a"
  },
  {
   "metadata": {},
   "cell_type": "markdown",
   "source": [
    "# SVM (Support Vector Machine)\n",
    "Eh um algoritmo utilizado em problemas de classificacao.\n",
    "\n",
    "O SVM eh um algoritmo de aprendizado supervisionado que classifica casos encontrando um separador.\n",
    "- Mapeia dados em um espaco com alta dimensao de caracteristicas, encontrando um separador.\n",
    "\n",
    "Basicamente, o SVM busca encontrar um hiperplano que melhor divide os dados em duas classes, de forma a obter um problema linearmente separavel.\n",
    "\n",
    "**Vantagens:**\n",
    "- Eh preciso em espacos com muitas dimensoes\n",
    "- Usa memoria de forma eficiente\n",
    "\n",
    "**Desvantagens:**\n",
    "- Pode acabar em Overfitting caso o numero de variaveis seja maior que o numero de amostras\n",
    "- Nao oferece estimativas probabilisticas\n",
    "- Nao funciona bem com datasets pequenos."
   ],
   "id": "a07c9b1343aa25f6"
  }
 ],
 "metadata": {
  "kernelspec": {
   "display_name": "Python 3",
   "language": "python",
   "name": "python3"
  },
  "language_info": {
   "codemirror_mode": {
    "name": "ipython",
    "version": 2
   },
   "file_extension": ".py",
   "mimetype": "text/x-python",
   "name": "python",
   "nbconvert_exporter": "python",
   "pygments_lexer": "ipython2",
   "version": "2.7.6"
  }
 },
 "nbformat": 4,
 "nbformat_minor": 5
}
