{
 "cells": [
  {
   "metadata": {},
   "cell_type": "markdown",
   "source": [
    "# Agrupamento (Clustering)\n",
    "Eh um tipo de tecnica que podemos usar, por exemplo, para fazer segmentacao de clientes. Segmentacao de cliente eh uma forma de dividir os clientes em grupos baseado em caracteristicas semelhantes. Esse tipo de aplicacao permite que sejam realizadas acoes personalizadas para cada grupo de pessoas que possuem caracteristicas similares. \n",
    "\n",
    "**O que eh um *cluster*?**\n",
    "\n",
    "Eh um grupo de objetos/amostras que sao similares entre si neste determinado conjunto, e que sao diferentes das outras amostras que estao nos outros conjuntos.\n",
    "\n",
    "**Algoritmos de Clusterizacao:**\n",
    "1) **Clustering baseado em particao:** Sao algoritmos que geram cluster em formato de esfera, como: k-Means, k-Median, Fuzzy c-Means\n",
    "2) **Clustering Hierarquico:** Sao algoritmos que produzem arvores de cluster, como: Agglomerative e Divisive\n",
    "3) **Clustering Baseado em Densidade:** Produzem clusters de formato arbitrario, como: DBSCAN\n",
    "\n",
    "## k-Means\n",
    "O k-Means eh um algoritmo de particao. Ou seja, ele divide os dados em conjuntos nao-sobrepostos sem nenhuma estrutura interna de cluster ou rotulos. Nele, amostras dentro de um conjunto sao similares, enquanto amostras de outros clusters sao diferentes.\n",
    "\n",
    "Dessa forma, o objetivo do k-Means eh agrupar dados similares em grupos, e grupos dissimilares em outro grupo. Para isso, ao inves de utilizar uma medida de similaridade, podemos usar uma medida de **dissimilaridade**. Ou seja, a distancia de uma amostra da outra eh usada para moldar os clusters. Sendo assim, o k-Means busca que a distancia intra-cluster seja minimizada, enquanto a distancia inter-cluster seja maximizada. \n",
    "\n",
    "**Como funciona:**\n",
    "- Coloca aleatoriamente k centroides, um para cada cluster\n",
    "- Calcula a distancia de cada amostra ate o centroide\n",
    "- Atribui cada ponto de dado ao seu centroide mais proximo, de forma a criar um cluster\n",
    "- Apos isso, recalcula a posicao dos k centroides\n",
    "- E entao repete o processo algumas vezes, ate o centroide nao se mover mais."
   ],
   "id": "ab7df07e19dc9db2"
  }
 ],
 "metadata": {
  "kernelspec": {
   "display_name": "Python 3",
   "language": "python",
   "name": "python3"
  },
  "language_info": {
   "codemirror_mode": {
    "name": "ipython",
    "version": 2
   },
   "file_extension": ".py",
   "mimetype": "text/x-python",
   "name": "python",
   "nbconvert_exporter": "python",
   "pygments_lexer": "ipython2",
   "version": "2.7.6"
  }
 },
 "nbformat": 4,
 "nbformat_minor": 5
}
