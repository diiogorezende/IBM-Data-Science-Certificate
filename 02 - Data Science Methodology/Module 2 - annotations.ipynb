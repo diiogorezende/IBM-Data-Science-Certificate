{
 "cells": [
  {
   "cell_type": "markdown",
   "metadata": {},
   "source": [
    "## Data understanding\n",
    "\n",
    "Abrange o entendimento de todas as atividades relacionadas a construcao do dataset. Uma pergunta comum nesta etapa eh: seus dados coletados estao representativos do problema a ser resolvido?\n",
    "\n",
    "Implica em analisar os dados que possuimos para decidir se estao de acordo com o que precisamos para lidar com o problema, se existem features redundantes, etc."
   ]
  },
  {
   "cell_type": "markdown",
   "metadata": {},
   "source": [
    "## Data preparation\n",
    "\n",
    "Eh a etapa que mais demanda tempo do cientista de dados.\n",
    "\n",
    "Eh nesta etapa que limpamos os dados, corrigimos os dados ausentes, duplicados ou invalidos. Nesta etapa tambem corrigimos a formatacao dos dados para o formato mais adequado para o problema.\n",
    "\n",
    "Neste momento tambem realizamos o processo de feature engineering, que eh o processo que envolve conhecimento do dominio de negocio para criar features que facam sentido ao problema para que o modelo aprenda da melhor forma."
   ]
  },
  {
   "cell_type": "markdown",
   "metadata": {
    "vscode": {
     "languageId": "plaintext"
    }
   },
   "source": [
    "## Data Modeling\n",
    "\n",
    "E o momento em que podemos pegar umas amostra dos dados e determinar se esta de acordo com a necessidade ou se precisa de mais tratamento.\n",
    "\n",
    "Foca em desenvolver modelos que podem ser descritivos ou preditivos.\n",
    "\n",
    "### Estudo de caso\n",
    "\n",
    "Vamos ver uma parte de ajuste de parametro para melhorar o modelo de arvore de decisao.\n",
    "\n",
    "No caso em questao, o primeiro modelo usou como Custo relativo (Y:N) um valor de 1:1, e teve uma acuracia geral de 85%, porem, teve uma sensibilidade de apenas 45%.\n",
    "Um parametro que podemos alterar para melhorar a performance do modelo eh o Custo Relativo de classificacoes incorretas de Y e N."
   ]
  },
  {
   "cell_type": "markdown",
   "metadata": {},
   "source": [
    "## Evaluation\n",
    "\n",
    "Essa etapa eh realizada durante o desenvolvimento do modelo e apos o modelo ser colocado em producao.\n",
    "\n",
    "Permite que avaliacoes de performance possam ser realizadas, permitindo que a gente possa afirmar com maior propriedade se o modelo esta efetivamente lidando bem com o problema que foi inicialmente definido.\n",
    "\n",
    "### Estudo de caso\n",
    "\n",
    "Vamos olhar para uma forma de otimizar o modelo baseado na tunagem de um parametro.\n",
    "\n",
    "Uma das formas de avaliar qual modelo teve a melhor performance apos realizada a tunagem eh atraves da curva ROC. "
   ]
  }
 ],
 "metadata": {
  "language_info": {
   "name": "python"
  }
 },
 "nbformat": 4,
 "nbformat_minor": 2
}
