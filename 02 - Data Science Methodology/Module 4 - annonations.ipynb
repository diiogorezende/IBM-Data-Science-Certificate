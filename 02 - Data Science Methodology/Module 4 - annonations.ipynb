{
 "cells": [
  {
   "cell_type": "markdown",
   "metadata": {},
   "source": [
    "## CRISP-DM\n",
    "\n",
    "Cross-Industry Standard Process for Data Mining, eh uma forma de data mining iterativo e eh uma metodologia compreensiva para projetos de ciencia de dados.\n",
    "\n",
    "O modelo CRISP-DM inclui:\n",
    "- Entedimento do negocio;\n",
    "- Entendimento dos dados (requisitos, coleta, entendimento);\n",
    "- Preparacao dos dados;\n",
    "- Modelagem;\n",
    "- Avaliacao;\n",
    "- Deploy.\n",
    "\n",
    "Eh um formato que exige flexibilidade em cada etapa do processo, comunicacao entre outras equipes envolvidas para manter o projeto no seu caminho."
   ]
  }
 ],
 "metadata": {
  "language_info": {
   "name": "python"
  }
 },
 "nbformat": 4,
 "nbformat_minor": 2
}
