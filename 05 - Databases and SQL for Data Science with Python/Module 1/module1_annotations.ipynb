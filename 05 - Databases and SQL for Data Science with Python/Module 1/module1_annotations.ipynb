{
 "cells": [
  {
   "metadata": {},
   "cell_type": "markdown",
   "source": [
    "# Basic SQL\n",
    "\n",
    "Neste primeiro modulo, iremos abordar alguns comandos basicos do SQL. Entre eles:\n",
    "- SELECT;\n",
    "- COUNT; \n",
    "- DISTINCT; \n",
    "- LIMIT;\n",
    "- INSERT;\n",
    "- UPTADE;\n",
    "- DELETE."
   ],
   "id": "3220ae508afd1a60"
  },
  {
   "metadata": {},
   "cell_type": "markdown",
   "source": [
    "<hr>\n",
    "\n",
    "### SELECT\n",
    "\n",
    "O comando SELECT é do tipo Data Manipulation Language (DML) usado para selecionar e visualizar dados de uma tabela.\n",
    "Se fizermos a seguinte sintax: __SELECT__ * from <nome_tabela>  ---> Estamos selecionando todas as colunas de uma tabela em questão. Nesse caso, ou passamos o simbolo \"*\" para dizer que queremos todas as colunas da tabela, ou entao informamos o nome das colunas desejadas. O \"from\" eh usado para informarmos de qual base de dados estamos fazendo essa selecao.\n",
    "\n",
    "Porem, podemos querer fazer algo mais elaborado. Neste caso, podemos usar a clausula \"WHERE\", que informamos uma condicao e entao os dados que corresponderem a essa condicao serao retornados. Vamos a um exemplo: <br><br>\n",
    "__SELECT__ book_id, title __FROM__ Book <br>\n",
    "    __WHERE__ book_id=\"B1\"     ---> Essa consulta seleciona as colunas book_id e title, da tabela Book, e retorna os livros que tenham seu book_id iguais a B1. <br>"
   ],
   "id": "fa79d4d10691f7a7"
  },
  {
   "metadata": {},
   "cell_type": "markdown",
   "source": [
    "<hr>\n",
    "\n",
    "### COUNT, DISTINCT, LIMIT\n",
    "\n",
    "O comando COUNT eh uma funcao que retorna o numero de linhas que correspondem a uma condicao definida por nos. Por exemplo, obter o numero total de linhas em uma tabela: __SELECT COUNT(*)__ FROM <table_name> <br>\n",
    "Outro exemplo. Agora queremos obter o numero de medalhas que o Canada recebeu: <br>\n",
    "SELECT __COUNT(country)__ FROM medals <br>\n",
    "WHERE country = \"Canada\"\n",
    "<br> <br>\n",
    "\n",
    "O comando DISTINCT eh usado para remover valores duplicado de um conjunto. Por exemplo, se quiser obter apenas valores unicos em uma coluna, usamos o seguinte formato: <br>\n",
    "SELEC __DISTINCT__ <column_name> FROM <table_name> <br><br>\n",
    "No exemplo das medalhas, um pais pode ter recebido medalha de ouro mais de uma vez, mas queremos saber apenas os paises que tiveram alguma medalha de ouro conquistada. Para isso, usamos o seguinte formato: <br>\n",
    "SELECT __DISTINCT__ country FROM medals <br>\n",
    "WHERE medaltype = \"Gold\" <br> <br>\n",
    "\n",
    "O comando LIMIT eh usado para limitar o numero de linhas retornadas da tabela. Por exemplo, podemos querer apenas as primeiras 10 linhas de uma tabela. Para isso, usamos o seguinte formato: <br>\n",
    "SELECT * FROM <table_name> __LIMIT__ 10   ---> Estamos obtendo as 10 primeiras linhas da tabela."
   ],
   "id": "c93d8b0cb077c9fd"
  },
  {
   "metadata": {},
   "cell_type": "markdown",
   "source": [
    "<hr>\n",
    "\n",
    "### INSERT\n",
    "\n",
    "O INSERT eh usado para popular a tabela com dados. <br>\n",
    "A sintaxe para usar o INSERT eh a que segue: <br> <br>\n",
    "__INSERT INTO__ <table_name> <br>\n",
    "<(coluna1, coluna2, coluna3)> <br>\n",
    "__VALUES__ <(\"valor1\", \"valor2\", \"valor3\")> <br> <br>"
   ],
   "id": "b4c9461f868c3be8"
  },
  {
   "metadata": {},
   "cell_type": "markdown",
   "source": [
    "<hr>\n",
    "\n",
    "### UPDATE\n",
    "\n",
    "Apos criarmos um tabela, e a preenchermos com alguns dados, podemos ter o desejo e a necessidade de atualizar ou deletar dados desta tabela. <br> <br>\n",
    "\n",
    "__UPDATE__: Iremos usar o UPDATE para atualizar os dados na tabela desejada. A sintaxe eh a que segue: <br>\n",
    "__UPDATE__ <table_name> __SET__ <column_name> = valor <br>\n",
    "__WHERE__ condicao <br> <br>\n",
    "\n",
    "Caso a clausula _WHERE_ nao seja especificada, todas as colunas serao atualizadas!"
   ],
   "id": "a47de2bf3a255b91"
  },
  {
   "metadata": {},
   "cell_type": "code",
   "outputs": [],
   "execution_count": null,
   "source": "",
   "id": "69a7fdd3da05c7d4"
  }
 ],
 "metadata": {
  "kernelspec": {
   "display_name": "Python 3",
   "language": "python",
   "name": "python3"
  },
  "language_info": {
   "codemirror_mode": {
    "name": "ipython",
    "version": 2
   },
   "file_extension": ".py",
   "mimetype": "text/x-python",
   "name": "python",
   "nbconvert_exporter": "python",
   "pygments_lexer": "ipython2",
   "version": "2.7.6"
  }
 },
 "nbformat": 4,
 "nbformat_minor": 5
}
