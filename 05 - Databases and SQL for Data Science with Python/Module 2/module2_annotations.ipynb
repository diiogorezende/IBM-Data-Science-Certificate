{
 "cells": [
  {
   "metadata": {},
   "cell_type": "markdown",
   "source": [
    "## Relational Database Concepts\n",
    "\n",
    "Modelos Relacionais sao os tipos mais utilizados hoje em dia pois permitem dados independentes, armazenamento em um formato simples de tabelas, entre outros.\n",
    "<br> <br>\n",
    "\n",
    "Modelos de entidade-relacionamento propoe um banco de dados com uma colecao de entidades. O modelo ER eh usado como uma ferramenta para projetar bancos de dados relacionais. <br>\n",
    "No modelo ER, entidades sao objetos que existem independentemente de outras entidades. Os blocos de um ER sao entidades e atributos. Uma __entidade__ (tabela) pode ser uma pessoa, um lugar, ou uma coisa. No diagrama ER, uma entidade tem o simbolo retangular. <br> Entidades tem __atributos__ (colunas), que sao os elementos de dado que caracterizam a entidade, como propriedades ou caracteristicas do dado. Atributos falam sobre as entidades e possuem o simbolo oval. Os atributos sao conectados a exatamente __uma__ entidade. "
   ],
   "id": "23161e2fef03d60a"
  },
  {
   "metadata": {},
   "cell_type": "markdown",
   "source": [
    "<hr>\n",
    "\n",
    "### DDL vs DML\n",
    "\n",
    "__Data Definition Language (DDL):__ Eh usado para definir, mudar, ou remover dados de bancos de dados. Como por exemplo, tabelas. Alguns tipos comuns de DDL sao: \n",
    "- __CREATE__: cria tabelas e define suas colunas;\n",
    "- __ALTER__: usado para alterar as tabelas, incluindo adicionar e excluir colunar, e modificar seus tipos de dados;\n",
    "- __TRUNCATE__: usado para deletar dados em uma tabela, mas nao a propria tabela;\n",
    "- __DROP__: usado para deletar a propria tabela.\n",
    "<br> <br>\n",
    "\n",
    "__Data Manipulation Language (DML):__ Eh usado para ler e modificar dados em tabelas. Suas operacoes sao conhecidas como __CRUD__ (**C**reate, **R**ead, **U**pdate, **D**elete). Alguns comandos comuns sao:\n",
    "- __INSERT__: usado para inserir uma linha, ou varias linhas em uma tabela;\n",
    "- __SELECT__: Le ou seleciona linhas em uma tabela;\n",
    "- __UPDATE__: Edita linhas em uma tabela;\n",
    "- __DELETE__: Deleta linhas ou dados de uma tabela."
   ],
   "id": "2c2e7d7c6519ad92"
  },
  {
   "metadata": {},
   "cell_type": "markdown",
   "source": [
    "<hr>\n",
    "\n",
    "__CREATE TABLE__ <br>\n",
    "\n",
    "A sintax para usar o CREATE e criar uma tabela eh a seguinte: <br>\n",
    "__CREATE__ TABLE <table_name> ( <br> <br> \n",
    "<coluna_1> <tipo_dado> <parametro_opcional>, <br>\n",
    "<coluna_2> <tipo_dado>, <br>\n",
    "...\n",
    " <br> <br> ) <br> <br>\n",
    " \n",
    "Perceba que cada atributo eh separado por uma virgula ao final. <br>\n",
    "EX: <br>\n",
    "__CREATE__ TABLE provinces ( <br> <br> \n",
    "_ID_ char(2) PRIMARY KEY NOT NULL, ----> A adicao deste __NOT NUL__ informa que este campo nao pode ficar nulo.      <br>\n",
    "_NAME_ varchar(24)\n",
    "<br> <br> \n",
    ")"
   ],
   "id": "71fa212305503fbc"
  },
  {
   "metadata": {},
   "cell_type": "markdown",
   "source": [
    "<hr>\n",
    "\n",
    "__ALTER TABLE__: Usado para adicionar ou remover colunas de uma tabela, modificar tipos de dados de uma coluna, adicionar ou remover chaves, e adicionar ou remover restricoes. A sintaxe eh: <br>\n",
    "__ALTER TABLE__ <table_name> <br>\n",
    "_ADD COLUMN_ <column_name> <data_type>  ---> Podemos alterar o \"add column\" por algum outro comando, como o MODIFY.\n",
    "<br><br>\n",
    "__DROP TABLE__: Usado para excluir uma tabela. Ao excluir uma tabela, tambem excluimos os dados contidos nela. A sintaxe eh: <br>\n",
    "__DROP TABLE__ <table_name>;\n",
    "<br><br>\n",
    "__TRUNCATE__: Usado para excluir os dados de uma tabela, sem excluir a tabela em si. A sintaxe eh: <br>\n",
    "__TRUNCATE TABLE__ <table_name>\n",
    "_IMMEDIATE_;"
   ],
   "id": "55ca38eaca8be2be"
  }
 ],
 "metadata": {
  "kernelspec": {
   "display_name": "Python 3",
   "language": "python",
   "name": "python3"
  },
  "language_info": {
   "codemirror_mode": {
    "name": "ipython",
    "version": 2
   },
   "file_extension": ".py",
   "mimetype": "text/x-python",
   "name": "python",
   "nbconvert_exporter": "python",
   "pygments_lexer": "ipython2",
   "version": "2.7.6"
  }
 },
 "nbformat": 4,
 "nbformat_minor": 5
}
