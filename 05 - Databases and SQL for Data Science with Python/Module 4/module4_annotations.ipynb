{
 "cells": [
  {
   "metadata": {},
   "cell_type": "markdown",
   "source": [
    "### How to access Databases using Python\n",
    "Para acessarmos bancos de dados usando Python em Notebooks, usamos o mecanismo onde o Python se comunica com a API DBMS, entao a conexao eh realizada via chamadas da API. <br>\n",
    "Vamos a algumas APIs populares usadas por sistemas DBMS baseados em SQL. <br>\n",
    "- MySQL ---> MySQL C API\n",
    "- PostgreSQL ---> psycopg2\n",
    "- IBM DBS ---> ibm_db\n",
    "- SQL Server ---> dblib API\n",
    "- Oracle ---> OCI\n",
    "- MongoDB ---> PyMongo"
   ],
   "id": "680680833f9e2f91"
  },
  {
   "metadata": {},
   "cell_type": "markdown",
   "source": [
    "<hr>\n",
    "\n",
    "### Writing code using DB-API\n",
    "Os dois conceitos principais no Python DB API sao: <br>\n",
    "__Connection Objects__: Usado para nos conectarmos a um banco de dados e gerenciar nossas comunicacoes. <br>\n",
    "__Query Objects (Cursor Objects)__: Usado para realizar consultas e retornar os resultados. <br><br>\n",
    "A DB API inclui um construtor de conexao para criar uma conexao ao banco de dados. Esse construtor retorna um objeto de conexao, que sera usado para os metodos de conexao. Esses metodos sao: \n",
    "- __.cursor()__: Retorna um objeto cursor.\n",
    "- __.commit()__: Usado para dar o commit em qualquer transacao pendente para o banco de dados.\n",
    "- __.rollback()__: Faz o rollback para qualquer transacao pendente.\n",
    "- __.close()__: Fecha a conexao com o banco de dados.\n",
    "<br><br>\n",
    "\n",
    "__Vamos ver como escrever codigo usando o DB-API.__ <br>\n",
    "\n",
    "from dbmodule import connect <br>\n",
    "-- Criar um objeto para conexao <br>\n",
    "connection = connect('dbName', 'username', 'pswd') <br>\n",
    "-- Criar o cursor object <br>\n",
    "cursos = connection.cursor() <br>\n",
    "-- Executar queries <br>\n",
    "cursor.execute('select * from table') <br>\n",
    "results = cursos.fetchall()"
   ],
   "id": "9f8f52a5a66b8a90"
  },
  {
   "metadata": {},
   "cell_type": "markdown",
   "source": [
    "<hr>\n",
    "\n",
    "### Accessing Databases with SQL Magic\n",
    "_Magic commands_ sao comando especiais que fornecem funcionalidades especias. Por si so, nao sao codigos validos em Python, mas afetam o comportamento do notebook. <br>\n",
    "Existem dois tipos de _Magic Statements_: __line magics__ e __cell magics__. <br>\n",
    "- __Line Magics__: Sao comandos prefixados usando o caracter \"%\", e operam em uma linha de input;\n",
    "- __Cell Magics__: Sao comandos prefixados usando dois caracteres \"%%\", e operam em multiplas linhas.\n",
    "<br><br>\n",
    "__Comandos Uteis__:\n",
    "- _%pwd_: exibe o diretorio atual;\n",
    "- _%ls_: lista tdos os arquivos no diretorio atual;\n",
    "- _%history_: mostra o historico de comandos realizados;\n",
    "- _%reset_: reseta os namespaces removendo todos os nomes definidos pelo usuario;\n",
    "- _%who_: lista todas as variaveis no namespace;\n",
    "- _%whos_: fornece informacoes mais detalhadas sobre as variaveis no namespace;\n",
    "- _%matplotlib inline_: faz com que os graficos do matplotlib aparecam no notebook;\n",
    "- _%timeit_: faz a contagem da execucao de um statement;\n",
    "- _%lsmagic_: lista todas as line magics disponiveis.\n",
    "\n",
    "### Using SQL Magic\n",
    "Para usa-lo, precisamos instalar \"_ipython-sql_\" atraves do seguinte comando: __!pip install --user ipython-sql__. Em seguinda, para usar o SQL Magic no notebook, precisamos carregar a extensao __%load_ext sql__."
   ],
   "id": "7df51c10333c2ed8"
  },
  {
   "metadata": {},
   "cell_type": "markdown",
   "source": [
    "<hr>\n",
    "\n",
    "### Analyzing data with Python\n",
    "- __idxmax()__: Usado para verificar o index onde o valor maximo se encontra.\n",
    "- __.at__: Encontra o nome item ao passar o index e a coluna."
   ],
   "id": "6057907b693c1d46"
  }
 ],
 "metadata": {
  "kernelspec": {
   "display_name": "Python 3",
   "language": "python",
   "name": "python3"
  },
  "language_info": {
   "codemirror_mode": {
    "name": "ipython",
    "version": 2
   },
   "file_extension": ".py",
   "mimetype": "text/x-python",
   "name": "python",
   "nbconvert_exporter": "python",
   "pygments_lexer": "ipython2",
   "version": "2.7.6"
  }
 },
 "nbformat": 4,
 "nbformat_minor": 5
}
