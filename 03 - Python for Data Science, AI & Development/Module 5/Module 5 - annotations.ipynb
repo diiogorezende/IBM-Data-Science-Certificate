{
 "cells": [
  {
   "metadata": {},
   "cell_type": "markdown",
   "source": "### API's",
   "id": "fe04e38f9d40d820"
  },
  {
   "metadata": {},
   "cell_type": "markdown",
   "source": [
    "Uma API permite que softwares se comuniquem entre si.\n",
    "\n",
    "Vamos supor que temos um programa, dados, e um outro componente de software. Usamos a API para nos comunicarmos com outros softwares via entradas e saidas.\n",
    "\n",
    "O Pandas eh na verdade um conjunto de componentes de software, que muitas vezes nem mesmo foram escritos em Python. Temos entradas e dados, e atraves da API do Pandas que somos permitidos a fazer processamentos de dados atraves da comunicacao com outros componentes de software."
   ],
   "id": "9e7ffd8fde50469"
  },
  {
   "metadata": {},
   "cell_type": "markdown",
   "source": [
    "### REST API's\n",
    "\n",
    "Sao um outro tipo de API. Permite que sejam realizas comunicacoes via internet, permitindo a utilizacao de armazenamento, utilizacao de dados, construcao de modelos, etc.\n",
    "\n",
    "REST API's funcionam enviando uma solicitacao, a solicitacao eh comunicada via HTTP. A mensagem HTTP geralmente contem um arquivo JSON que carrega as instrucoes para a operacao que desejamos. De forma similar, a API retorna uma resposta via HTTP contendo a resposta, geralmente em arquivo JSON.\n",
    "\n",
    "O signifado de REST API eh o que segue: RE(presentational) S(tate) T(ransfer) API."
   ],
   "id": "7748fa928ea0e856"
  },
  {
   "metadata": {},
   "cell_type": "markdown",
   "source": [
    "#### Biblioteca Requests do Python\n",
    "Eh uma biblioteca que permite enviar requisicoes HTTP. "
   ],
   "id": "93f0e23656155b28"
  },
  {
   "metadata": {
    "ExecuteTime": {
     "end_time": "2024-08-05T20:18:27.240197Z",
     "start_time": "2024-08-05T20:18:24.857169Z"
    }
   },
   "cell_type": "code",
   "source": [
    "# Vamos a um exemplo.\n",
    "# Neste exemplo, vamos puxar algumas informacoes do site da IBM. Primeiro, importamos a biblioteca Requests. Em seguida, instanciamos a URL em uma variavel e, apos isso, chamamos a url atravel do metodo get.\n",
    "\n",
    "import requests\n",
    "\n",
    "url = \"https://www.ibm.com/\"\n",
    "\n",
    "response = requests.get(url)\n",
    "\n",
    "print(response.status_code) # Status da solicitacao\n",
    "print(response.request.headers) # Cabecalho da solicitacao\n",
    "print(response.request.body) # Corpo da solicitacao"
   ],
   "id": "aa62d6b4cac26c6a",
   "outputs": [
    {
     "name": "stdout",
     "output_type": "stream",
     "text": [
      "200\n",
      "{'User-Agent': 'python-requests/2.31.0', 'Accept-Encoding': 'gzip, deflate, br', 'Accept': '*/*', 'Connection': 'keep-alive', 'Cookie': '_abck=31D98D72E7D934F5C04B70889B3FFA1B~-1~YAAQJ8QQAspbwxyRAQAAuXExJAyc/880WKmuTQHphvWb++mODpwH3TxfaCp0K+rw3B54xmq5l2AzIQQxa4+JI0PyKi6oJ/2Y0Bw51MHbRkG+kjDGX12dve5staFIJ2rcN23WUGxVlAlA5xMHmP8Qk3oz7FSr5r+D7Dqj+3oFnLxpRL/nrspVqqq2WPEsBVAtjSiLu/L8On2ZMa7NnH6J68EtEMYjq6hXznf6Lf8QMR3dSRLGMbV4HA1sM8JW873Ni4NypwKeHcgpgtr64P35G2g/GIwoPW8DcDq3ipfe4qN/tEPTjHxHvLmn6t2umohvuaXrcW/TTHJk2N1MPMgVn4R4R9lzGiO3CknxrIUsXIGgUZ0z5v0=~-1~-1~-1; bm_sz=D152431B09F1D1473F2DE8A35B7A92CE~YAAQJ8QQAstbwxyRAQAAuXExJBiLJFZvyEKgli+FBPxxkQ8Wk1FcYO4WabBYEz8ffSRMndK58NNqd7PW9yPMLtzQzBCtnZ8xfwjZEnE9V1Mv8KGEfAD+0yb/CNrhJI9KqzX7hQR1Ey0GKkeoR1lsFKgPg90kpLbUmSJ8wOw3mONjrbfatjRZhCG48Feep8RkORSs4U4WzksHOw/TyN571Xtl9+UADjvgenIGWvLtHk+ogEqeKeuXOkEpYirh1U3Bf/rNR9w4uRmMCsS0rZqHmDKEdq5olTG/OClrVivI8+RdIn9dEzsMIKpJ2BvfiX+YIztaBhTxhrOqNld8QepzIDDRFiz09kbwiBCNybW2Nn5KA0xEr/42SOUGfk5sMH8=~4469826~3291187'}\n",
      "None\n"
     ]
    }
   ],
   "execution_count": 1
  },
  {
   "metadata": {
    "ExecuteTime": {
     "end_time": "2024-08-05T20:18:34.814548Z",
     "start_time": "2024-08-05T20:18:34.428528Z"
    }
   },
   "cell_type": "code",
   "source": [
    "# Agora, vamos ver como obter requisicoes com parametros URL\n",
    "\n",
    "url_get = \"http://httpbin.org/get\"\n",
    "\n",
    "payload = {\"name\": \"Joseph\", \"ID\": \"123\"}\n",
    "\n",
    "r = requests.get(url_get, params=payload)\n",
    "\n",
    "print(r.url)\n",
    "print(r.request.body)\n",
    "print(r.status_code)\n",
    "print(r.text)\n",
    "print(r.headers)\n",
    "print(r.headers[\"Content-Type\"])"
   ],
   "id": "5915c8bf9a212721",
   "outputs": [
    {
     "name": "stdout",
     "output_type": "stream",
     "text": [
      "http://httpbin.org/get?name=Joseph&ID=123\n",
      "None\n",
      "200\n",
      "{\n",
      "  \"args\": {\n",
      "    \"ID\": \"123\", \n",
      "    \"name\": \"Joseph\"\n",
      "  }, \n",
      "  \"headers\": {\n",
      "    \"Accept\": \"*/*\", \n",
      "    \"Accept-Encoding\": \"gzip, deflate, br\", \n",
      "    \"Host\": \"httpbin.org\", \n",
      "    \"User-Agent\": \"python-requests/2.31.0\", \n",
      "    \"X-Amzn-Trace-Id\": \"Root=1-66b1339a-193ebf473e9d7d644d98a883\"\n",
      "  }, \n",
      "  \"origin\": \"201.35.155.131\", \n",
      "  \"url\": \"http://httpbin.org/get?name=Joseph&ID=123\"\n",
      "}\n",
      "\n",
      "{'Date': 'Mon, 05 Aug 2024 20:18:34 GMT', 'Content-Type': 'application/json', 'Content-Length': '372', 'Connection': 'keep-alive', 'Server': 'gunicorn/19.9.0', 'Access-Control-Allow-Origin': '*', 'Access-Control-Allow-Credentials': 'true'}\n",
      "application/json\n"
     ]
    }
   ],
   "execution_count": 2
  },
  {
   "metadata": {},
   "cell_type": "markdown",
   "source": "---",
   "id": "d21b2576c4979474"
  },
  {
   "metadata": {},
   "cell_type": "markdown",
   "source": [
    "#### HTML para Web Scrapping\n",
    "Devido a existencia de muitas informacoes uteis estarem presentes em sites WEB, tecnicas de scrapping com HTML foram desenvolvidas.\n",
    "\n",
    "__Composicao do HTML:__\n",
    "- Doctype: define o tipo de documento. \n",
    "- HMTL: eh o documento raiz da pagina.\n",
    "- HEAD: contem informacoes sobre a pagina HTML\n",
    "- BODY: Contem os dados do corpo da web page. Eh geralmente nessa parte que estamos interessados em fazer o scrapping."
   ],
   "id": "94f1ef391f2b2a88"
  },
  {
   "metadata": {},
   "cell_type": "markdown",
   "source": [
    "#### Trabalhando com diferentes tipos de formatos de arquivo\n",
    "Quando estamos coletando dados, vamos ter que lidar com muitos tipos de arquivos de diferentes formatos que precisam ser lidos e armazenados para as tarefas de ciencia de dados.\n",
    "\n",
    "Alguns formatos de arquivos:\n",
    "- CSV: comma-separated values - um tipo de formato de planilhas, onde os dados sao armazenados em celular. Cada celula eh organizada em linhas e colunas. Diferentes colunas podem ter diferentes tipos de dados. Cada linha no arquivo CSV representa uma observacao.\n",
    "- JSON: JavaScript Object Notation eh um formato bastante facil de se trabalhar. JSON eh construido em cima de duas estruturas: Uma colecao de pares nome/valores. Uma lista ordenada de valores.\n",
    "- XLSX: Eh um tipo de formato Excel XML. Eh um outro tipo de planilha.\n",
    "- XML: Extensible Markup Language - Eh uma linguagem de marcacao. \n",
    "\n",
    "Para lidar com esses diferentes formatos de arquivo, possuimos algumas bibliotecas, como o _Pandas_."
   ],
   "id": "1702d3c583cb3a1b"
  }
 ],
 "metadata": {
  "kernelspec": {
   "display_name": "Python 3",
   "language": "python",
   "name": "python3"
  },
  "language_info": {
   "codemirror_mode": {
    "name": "ipython",
    "version": 2
   },
   "file_extension": ".py",
   "mimetype": "text/x-python",
   "name": "python",
   "nbconvert_exporter": "python",
   "pygments_lexer": "ipython2",
   "version": "2.7.6"
  }
 },
 "nbformat": 4,
 "nbformat_minor": 5
}
