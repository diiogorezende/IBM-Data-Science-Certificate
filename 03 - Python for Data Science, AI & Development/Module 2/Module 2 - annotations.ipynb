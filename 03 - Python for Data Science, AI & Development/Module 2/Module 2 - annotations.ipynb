{
 "cells": [
  {
   "cell_type": "markdown",
   "metadata": {},
   "source": [
    "## Listas e tuplas"
   ]
  },
  {
   "cell_type": "markdown",
   "metadata": {},
   "source": [
    "### Tuplas\n",
    "\n",
    "Tuplas sao uma sequencia ordenada e _imutavel_. Para definir uma tupla, usamos parenteses. Uma tupla pode conter varios tipos de dados dentro dela como strings, integers, floats, etc. Porem, quando for verificar o tipo de dado da tupla, ele sera \"tuple\".\n",
    "\n",
    "Podemos acessar os elementos das tuplas usando seu respectivo index, como fizemos anteriormente. Tambem eh possivel concatenar tuplas.\n",
    "\n",
    "Tambem podemos executar slices nas tuplas.\n",
    "\n",
    "Eh possivel criar nested tuples, que sao sequencias de tuplas e, a partir dessas sequencias de sequencias, podemos acessa-las a partir de seus respectivos indexes."
   ]
  },
  {
   "cell_type": "markdown",
   "metadata": {},
   "source": [
    "### Listas\n",
    "\n",
    "Listas sao uma sequencia ordenada e _mutavel_. Para definir uma lista, usamos chaves. Listas tambem podem conter varios tipos de dados, podemos ter listas dentro de listas, e tuplas dentro de listas. Cada elemento de uma lista pode ser acessado pelo seu respectivo index, e tambem eh possivel realizar slices dos elementos dentro das listas.\n",
    "\n",
    "Podemos concatenar listas, altera-las, extende-las, e modifica-las de varias formas."
   ]
  },
  {
   "cell_type": "markdown",
   "metadata": {},
   "source": [
    "---"
   ]
  },
  {
   "cell_type": "markdown",
   "metadata": {},
   "source": [
    "### Algumas funcoes uteis."
   ]
  },
  {
   "cell_type": "code",
   "execution_count": 2,
   "metadata": {},
   "outputs": [
    {
     "data": {
      "text/plain": [
       "['banana', 'maca', 'laranja', 'manga']"
      ]
     },
     "execution_count": 2,
     "metadata": {},
     "output_type": "execute_result"
    }
   ],
   "source": [
    "# append(). Usado para adicionar elementos no final de uma lista.\n",
    "frutas = [\"banana\", \"maca\", \"laranja\"]\n",
    "frutas.append(\"manga\")\n",
    "frutas"
   ]
  },
  {
   "cell_type": "code",
   "execution_count": 3,
   "metadata": {},
   "outputs": [
    {
     "data": {
      "text/plain": [
       "[1, 2, 3, 4, 5]"
      ]
     },
     "execution_count": 3,
     "metadata": {},
     "output_type": "execute_result"
    }
   ],
   "source": [
    "# copy(). Usado para criar uma copia de uma lista\n",
    "lista1 = [1, 2, 3, 4, 5]\n",
    "nova_lista = lista1.copy()\n",
    "nova_lista"
   ]
  },
  {
   "cell_type": "code",
   "execution_count": 4,
   "metadata": {},
   "outputs": [
    {
     "data": {
      "text/plain": [
       "3"
      ]
     },
     "execution_count": 4,
     "metadata": {},
     "output_type": "execute_result"
    }
   ],
   "source": [
    "# count(). Usado para contar o numero de ocorrencias de um elemento.\n",
    "lista2 = [1, 1, 3, 3, 3, 5, 2, 6, 5]\n",
    "contagem = lista2.count(3)\n",
    "contagem"
   ]
  },
  {
   "cell_type": "code",
   "execution_count": 5,
   "metadata": {},
   "outputs": [
    {
     "data": {
      "text/plain": [
       "[20, 30, 50, 60]"
      ]
     },
     "execution_count": 5,
     "metadata": {},
     "output_type": "execute_result"
    }
   ],
   "source": [
    "# del. Remove um elemento da lista no index informado.\n",
    "lista3 = [20, 30, 40, 50, 60]\n",
    "del lista3[2]\n",
    "lista3"
   ]
  },
  {
   "cell_type": "code",
   "execution_count": 6,
   "metadata": {},
   "outputs": [
    {
     "name": "stdout",
     "output_type": "stream",
     "text": [
      "['banana', 'maca', 'laranja', 'manga', 'morango', 'pera', 'limao']\n"
     ]
    }
   ],
   "source": [
    "# extend. Usado para adicionar multiplos elementos em uma lista. Recebe um outro objeto iteravel, como lista, tupla ou string, e \n",
    "# acrescenta cada elemento na lista original.\n",
    "\n",
    "outras_frutas = ['morango', \"pera\", \"limao\"]\n",
    "frutas.extend(outras_frutas)\n",
    "print(frutas)"
   ]
  },
  {
   "cell_type": "code",
   "execution_count": 7,
   "metadata": {},
   "outputs": [
    {
     "name": "stdout",
     "output_type": "stream",
     "text": [
      "[1, 1, 200, 3, 3, 3, 5, 2, 6, 5]\n"
     ]
    }
   ],
   "source": [
    "# insert. Usado para inserir um elemento.\n",
    "lista2.insert(2, 200) # posicao 2, elemento 200\n",
    "print(lista2)"
   ]
  },
  {
   "cell_type": "code",
   "execution_count": 8,
   "metadata": {},
   "outputs": [
    {
     "data": {
      "text/plain": [
       "[1, 1, 3, 3, 3, 5, 2, 6, 5]"
      ]
     },
     "execution_count": 8,
     "metadata": {},
     "output_type": "execute_result"
    }
   ],
   "source": [
    "# pop. Remove um elemento de uma lista. Remove e retorna o elemento no index especifico. Se nao for fornecido o index, a funcao\n",
    "# ira remover e retornar o ultimo elemento da lista\n",
    "lista2.pop(2)\n",
    "lista2"
   ]
  },
  {
   "cell_type": "code",
   "execution_count": 9,
   "metadata": {},
   "outputs": [
    {
     "data": {
      "text/plain": [
       "[1, 3, 3, 3, 5, 2, 6, 5]"
      ]
     },
     "execution_count": 9,
     "metadata": {},
     "output_type": "execute_result"
    }
   ],
   "source": [
    "# remove. Remove a primeira ocorrencia de um valor especificado.\n",
    "lista2.remove(1)\n",
    "lista2"
   ]
  },
  {
   "cell_type": "code",
   "execution_count": 10,
   "metadata": {},
   "outputs": [
    {
     "data": {
      "text/plain": [
       "[60, 50, 30, 20]"
      ]
     },
     "execution_count": 10,
     "metadata": {},
     "output_type": "execute_result"
    }
   ],
   "source": [
    "# reverse. Inverte a ordem dos elementos de uma lista.\n",
    "lista3.reverse()\n",
    "lista3"
   ]
  },
  {
   "cell_type": "code",
   "execution_count": 11,
   "metadata": {},
   "outputs": [
    {
     "data": {
      "text/plain": [
       "[20, 30, 50, 60]"
      ]
     },
     "execution_count": 11,
     "metadata": {},
     "output_type": "execute_result"
    }
   ],
   "source": [
    "# sort. Ordena os elementos de uma lista em ordem crescente. Para ordenar em ordem decrescente, precisa ser passado o argumento\n",
    "# reverse=True.\n",
    "\n",
    "lista3.sort()\n",
    "lista3"
   ]
  },
  {
   "cell_type": "markdown",
   "metadata": {},
   "source": [
    "---"
   ]
  },
  {
   "cell_type": "markdown",
   "metadata": {},
   "source": [
    "## __Dicionarios__\n",
    "Dicionarios sao um conjunto de pares de chave-valor (key-value). Eh bastante similar as listas, porem ao inves de possuir index numerico, o dicionario possui a chave. Atraves das chaves que acessamos os valores contido em um dicionario. Para definir um dicionario, devemos usar chaves \"{}\".\n",
    "\n",
    "Em um dicionario, as chaves devem ser imutaveis e unicas. Enquanto isso, os valores podem ser imutaveis, mutaveis, e duplicados."
   ]
  },
  {
   "cell_type": "code",
   "execution_count": 1,
   "metadata": {},
   "outputs": [
    {
     "data": {
      "text/plain": [
       "{'chave1': 1,\n",
       " 'chave2': '2',\n",
       " 'chave3': [1, 2, 3],\n",
       " 'chave4': (4, 5, 6),\n",
       " 'chave5': 5,\n",
       " (0, 1): 6}"
      ]
     },
     "execution_count": 1,
     "metadata": {},
     "output_type": "execute_result"
    }
   ],
   "source": [
    "# Vamos criar um dicionario.\n",
    "dicionario = {\"chave1\": 1, \"chave2\": \"2\", \"chave3\": [1, 2, 3], \"chave4\": (4, 5, 6), (\"chave5\"): 5, (0,1): 6}\n",
    "dicionario"
   ]
  },
  {
   "cell_type": "markdown",
   "metadata": {},
   "source": [
    "Perceba que as chaves podem ser strings, e tambem podem ser algum objeto imutavel como uma tupla."
   ]
  },
  {
   "cell_type": "code",
   "execution_count": 2,
   "metadata": {},
   "outputs": [
    {
     "data": {
      "text/plain": [
       "{'Thriller': '1982',\n",
       " 'Back in Black': '1980',\n",
       " 'The Dark Side of the Moon': '1973',\n",
       " 'The Bodyguard': '1992',\n",
       " 'Bat Out of Hell': '1977',\n",
       " 'Their Greatest Hits (1971-1975)': '1976',\n",
       " 'Saturday Night Fever': '1977',\n",
       " 'Rumours': '1977'}"
      ]
     },
     "execution_count": 2,
     "metadata": {},
     "output_type": "execute_result"
    }
   ],
   "source": [
    "# Outro exemplo da criacao de um dicionario.\n",
    "release_year_dict = {\"Thriller\": \"1982\", \"Back in Black\": \"1980\", \\\n",
    "                    \"The Dark Side of the Moon\": \"1973\", \"The Bodyguard\": \"1992\", \\\n",
    "                    \"Bat Out of Hell\": \"1977\", \"Their Greatest Hits (1971-1975)\": \"1976\", \\\n",
    "                    \"Saturday Night Fever\": \"1977\", \"Rumours\": \"1977\"}\n",
    "release_year_dict"
   ]
  },
  {
   "cell_type": "code",
   "execution_count": 3,
   "metadata": {},
   "outputs": [
    {
     "data": {
      "text/plain": [
       "'1982'"
      ]
     },
     "execution_count": 3,
     "metadata": {},
     "output_type": "execute_result"
    }
   ],
   "source": [
    "# Podemos acessar os valores a partir das chaves.\n",
    "release_year_dict[\"Thriller\"]"
   ]
  },
  {
   "cell_type": "code",
   "execution_count": 4,
   "metadata": {},
   "outputs": [
    {
     "data": {
      "text/plain": [
       "dict_keys(['Thriller', 'Back in Black', 'The Dark Side of the Moon', 'The Bodyguard', 'Bat Out of Hell', 'Their Greatest Hits (1971-1975)', 'Saturday Night Fever', 'Rumours'])"
      ]
     },
     "execution_count": 4,
     "metadata": {},
     "output_type": "execute_result"
    }
   ],
   "source": [
    "# Podemos obter as chaves do dicionario usando o metodo \"keys()\"\n",
    "release_year_dict.keys()"
   ]
  },
  {
   "cell_type": "code",
   "execution_count": 5,
   "metadata": {},
   "outputs": [
    {
     "data": {
      "text/plain": [
       "dict_values(['1982', '1980', '1973', '1992', '1977', '1976', '1977', '1977'])"
      ]
     },
     "execution_count": 5,
     "metadata": {},
     "output_type": "execute_result"
    }
   ],
   "source": [
    "# De forma similar, podemos obter os valores usando o metodo \"values()\"\n",
    "release_year_dict.values()"
   ]
  },
  {
   "cell_type": "code",
   "execution_count": 6,
   "metadata": {},
   "outputs": [
    {
     "data": {
      "text/plain": [
       "{'Thriller': '1982',\n",
       " 'Back in Black': '1980',\n",
       " 'The Dark Side of the Moon': '1973',\n",
       " 'The Bodyguard': '1992',\n",
       " 'Bat Out of Hell': '1977',\n",
       " 'Their Greatest Hits (1971-1975)': '1976',\n",
       " 'Saturday Night Fever': '1977',\n",
       " 'Rumours': '1977',\n",
       " 'Graduation': '2007'}"
      ]
     },
     "execution_count": 6,
     "metadata": {},
     "output_type": "execute_result"
    }
   ],
   "source": [
    "# Podemos acrescentar um valor com a chave dentro do dicionario\n",
    "release_year_dict[\"Graduation\"] = \"2007\"\n",
    "release_year_dict"
   ]
  },
  {
   "cell_type": "code",
   "execution_count": 7,
   "metadata": {},
   "outputs": [
    {
     "data": {
      "text/plain": [
       "{'Back in Black': '1980',\n",
       " 'The Dark Side of the Moon': '1973',\n",
       " 'The Bodyguard': '1992',\n",
       " 'Bat Out of Hell': '1977',\n",
       " 'Their Greatest Hits (1971-1975)': '1976',\n",
       " 'Saturday Night Fever': '1977',\n",
       " 'Rumours': '1977'}"
      ]
     },
     "execution_count": 7,
     "metadata": {},
     "output_type": "execute_result"
    }
   ],
   "source": [
    "# Podemos deletar itens do dicionario usando \"del\"\n",
    "del(release_year_dict[\"Thriller\"])\n",
    "del(release_year_dict[\"Graduation\"])\n",
    "release_year_dict"
   ]
  },
  {
   "cell_type": "code",
   "execution_count": 8,
   "metadata": {},
   "outputs": [
    {
     "data": {
      "text/plain": [
       "True"
      ]
     },
     "execution_count": 8,
     "metadata": {},
     "output_type": "execute_result"
    }
   ],
   "source": [
    "# Tambem podemos verificar a presenca de algum item dentro do dicionario\n",
    "\"The Bodyguard\" in release_year_dict"
   ]
  },
  {
   "cell_type": "code",
   "execution_count": 9,
   "metadata": {},
   "outputs": [
    {
     "data": {
      "text/plain": [
       "dict_keys(['a', 'b'])"
      ]
     },
     "execution_count": 9,
     "metadata": {},
     "output_type": "execute_result"
    }
   ],
   "source": [
    "dict = {\"a\": 1, \"b\": 2}\n",
    "dict.keys()"
   ]
  },
  {
   "cell_type": "markdown",
   "metadata": {},
   "source": [
    "---"
   ]
  },
  {
   "cell_type": "markdown",
   "metadata": {},
   "source": [
    "## __Sets__\n",
    "\n",
    "Sao um tipo de colecao. Ou seja, podemos passar diferentes tipos de dados. Diferente das listas e tuplas, sets nao sao ordenados, ou seja, nao gravam a posicao do elemento. Sets possuem apenas elementos unicos, ou seja, existe apenas um de um determinado elemento.\n",
    "\n",
    "Para definir um set, usamos chaves \"{}\", porem nao separamos elementos com \":\"."
   ]
  },
  {
   "cell_type": "code",
   "execution_count": 11,
   "metadata": {},
   "outputs": [
    {
     "data": {
      "text/plain": [
       "{'R&B', 'disco', 'hard rock', 'pop', 'rock', 'soul'}"
      ]
     },
     "execution_count": 11,
     "metadata": {},
     "output_type": "execute_result"
    }
   ],
   "source": [
    "# Vamos criar um set. Vamos repetir um item neste set e, perceba que ele nao ira se repetir ao exibirmos o set.\n",
    "set1 = {\"pop\", \"rock\", \"soul\", \"hard rock\", \"rock\", \"R&B\", \"rock\", \"disco\"} # \"rock\" foi repetido 3 vezes.\n",
    "set1"
   ]
  },
  {
   "cell_type": "code",
   "execution_count": 12,
   "metadata": {},
   "outputs": [
    {
     "data": {
      "text/plain": [
       "{2021, 'Anyone', 'Justice', 'Justin Bieber'}"
      ]
     },
     "execution_count": 12,
     "metadata": {},
     "output_type": "execute_result"
    }
   ],
   "source": [
    "# Podemos converter uma lista em um Set usando a funcao \"set()\".\n",
    "album = [\"Justin Bieber\", \"Justice\", \"Anyone\", 2021]\n",
    "album_set = set(album)\n",
    "album_set"
   ]
  },
  {
   "cell_type": "code",
   "execution_count": 13,
   "metadata": {},
   "outputs": [
    {
     "data": {
      "text/plain": [
       "{2021, 'Anyone', 'Justice', 'Justin Bieber', 'Peaches'}"
      ]
     },
     "execution_count": 13,
     "metadata": {},
     "output_type": "execute_result"
    }
   ],
   "source": [
    "# Podemos adicionar um elemento a um set usando a funcao \"add()\"\n",
    "album_set.add(\"Peaches\")\n",
    "album_set"
   ]
  },
  {
   "cell_type": "code",
   "execution_count": 14,
   "metadata": {},
   "outputs": [
    {
     "data": {
      "text/plain": [
       "{2021, 'Anyone', 'Justice', 'Justin Bieber'}"
      ]
     },
     "execution_count": 14,
     "metadata": {},
     "output_type": "execute_result"
    }
   ],
   "source": [
    "# Para remover um elemento, usamos a funcao \"remove()\"\n",
    "album_set.remove(\"Peaches\")\n",
    "album_set"
   ]
  },
  {
   "cell_type": "code",
   "execution_count": 16,
   "metadata": {},
   "outputs": [],
   "source": [
    "# Podemos verificar o cruzamento de dois sets usando o operado \"&\".\n",
    "\n",
    "# Tambem podemos verificar os elementos unicos em dois sets com o metodo \"difference()\"\n",
    "\n",
    "# Podemos usar o metodo \"intersection()\" para verificar a interseccao de dois sets.\n",
    "\n",
    "# Podemos verificar a uniao dos dois sets usando \"union()\"\n",
    "\n",
    "# Podemos verificar se um set eh superset do outro com o metodo \"issuperset()\"\n",
    "\n",
    "# Tambem podemos verificar se um set eh subset do outro com o metodo \"issubset()\""
   ]
  }
 ],
 "metadata": {
  "kernelspec": {
   "display_name": "base",
   "language": "python",
   "name": "python3"
  },
  "language_info": {
   "codemirror_mode": {
    "name": "ipython",
    "version": 3
   },
   "file_extension": ".py",
   "mimetype": "text/x-python",
   "name": "python",
   "nbconvert_exporter": "python",
   "pygments_lexer": "ipython3",
   "version": "3.11.5"
  }
 },
 "nbformat": 4,
 "nbformat_minor": 2
}
