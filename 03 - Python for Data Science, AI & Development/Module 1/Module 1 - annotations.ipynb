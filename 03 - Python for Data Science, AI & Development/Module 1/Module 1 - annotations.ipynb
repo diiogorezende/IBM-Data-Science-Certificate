{
 "cells": [
  {
   "cell_type": "markdown",
   "metadata": {},
   "source": [
    "## Data Types\n",
    "\n",
    "Integers:\n",
    "- Numero do tipo inteiro (negativos e positivos).\n",
    "\n",
    "Float:\n",
    "- Numeros decimais (negativos e positivos).\n",
    "\n",
    "Strings:\n",
    "- Uma sequencia de catacteres que eh escrita usando aspas duplas ou simples, como: \"Diogo\", \"123\".\n",
    "Os elementos de uma string podem ser acessados a partir do slicing. Ex: \"Diogo\" o index de cada letra seria = D:0, i:1, o:2, g:3, o:4. Dessa forma, poderiamos acessar a letra D da seguinte forma: \n",
    "- nome = Diogo\n",
    "- nome[0]   O resultado disso seria a letra D \n",
    "\n",
    "Tambem podemos usar index negativo para acessar os elementos. \n",
    "- nome = Diogo\n",
    "- nome[-5]\n",
    "\n",
    "Podemos tambem pegar alguns elementos da string\n",
    "- nome[0:3]\n",
    "- Dio\n",
    "\n",
    "Podemos selecionar de forma compassada\n",
    "- nome[::2]\n",
    "- Doo\n",
    "\n",
    "Muitas outras operacoes podem ser feitas com strings. Veremos mais sobre isso ao longo da jornada.\n",
    "\n",
    "Boolean:\n",
    "- Valores que podem ser \"True\" ou \"False\", \"1\" ou \"0\".\n",
    "\n"
   ]
  },
  {
   "cell_type": "markdown",
   "metadata": {},
   "source": [
    "## Expressions and Variables\n",
    "\n",
    "#### Expressions\n",
    "Sao operacoes performadas pelo Python, como: 43 + 60 = 103. Ou seja, uma operacao aritmetica. Podemos realizar todo tipo de operacao artmetica com o Python e suas bibliotecas.\n",
    "\n",
    "#### Variables\n",
    "Variaveis sao usadas para armazenar valores. Ex: variavel = 10."
   ]
  },
  {
   "cell_type": "markdown",
   "metadata": {},
   "source": [
    "## RegEx\n",
    "\n",
    "O modulo re do python possui algumas funcoes para trabalhar com funcoes regulares: search, split, findall, sub.\n",
    "\n",
    "A funcao \"search\" busca por um padrao especifico na string."
   ]
  },
  {
   "cell_type": "code",
   "execution_count": 4,
   "metadata": {},
   "outputs": [
    {
     "name": "stdout",
     "output_type": "stream",
     "text": [
      "Found!\n"
     ]
    }
   ],
   "source": [
    "import re\n",
    "s1 = \"Diogo quer se tornar um cientista de dados.\"\n",
    "\n",
    "pattern = r\"Diogo\"\n",
    "\n",
    "resultado = re.search(pattern, s1)\n",
    "\n",
    "if resultado:\n",
    "    print(\"Found!\")\n",
    "else:\n",
    "    print(\"Not found!\")"
   ]
  },
  {
   "cell_type": "markdown",
   "metadata": {},
   "source": [
    "RegEx sao padroes usados para encontrar e manipular textos. Existem muitas sequencias especiais que podem ser utilizadas.\n",
    "\n",
    "| Special Sequence | Meaning                 | \tExample             |\n",
    "| -----------  | ----------------------- | ----------------------|\n",
    "| \\d|Matches any digit character (0-9)|\"123\" matches \"\\d\\d\\d\"|\n",
    "|\\D|Matches any non-digit character|\"hello\" matches \"\\D\\D\\D\\D\\D\"|\n",
    "|\\w|Matches any word character (a-z, A-Z, 0-9, and _)|\"hello_world\" matches \"\\w\\w\\w\\w\\w\\w\\w\\w\\w\\w\\w\"|\n",
    "|\\W|Matches any non-word character|\t\"@#$%\" matches \"\\W\\W\\W\\W\"|\n",
    "|\\s|Matches any whitespace character (space, tab, newline, etc.)|\"hello world\" matches \"\\w\\w\\w\\w\\w\\s\\w\\w\\w\\w\\w\"|\n",
    "|\\S|Matches any non-whitespace character|\"hello_world\" matches \"\\S\\S\\S\\S\\S\\S\\S\\S\\S\"|\n",
    "|\\b|Matches the boundary between a word character and a non-word character|\"cat\" matches \"\\bcat\\b\" in \"The cat sat on the mat\"|\n",
    "|\\B|Matches any position that is not a word boundary|\"cat\" matches \"\\Bcat\\B\" in \"category\" but not in \"The cat sat on the mat\"|"
   ]
  },
  {
   "cell_type": "markdown",
   "metadata": {},
   "source": [
    "#### Exemplos de sequencias especiais\n",
    "Um exemplo do uso de \"\\d\", que localiza qualquer digito entre 0 e 9."
   ]
  },
  {
   "cell_type": "code",
   "execution_count": 2,
   "metadata": {},
   "outputs": [
    {
     "name": "stdout",
     "output_type": "stream",
     "text": [
      "Numero de telefone:  1234567890\n"
     ]
    }
   ],
   "source": [
    "import re\n",
    "padrao = r\"\\d\\d\\d\\d\\d\\d\\d\\d\\d\\d\"\n",
    "texto = \"Meu numero de telefone eh 1234567890\"\n",
    "\n",
    "match = re.search(padrao, texto)\n",
    "\n",
    "if match:\n",
    "    print(\"Numero de telefone: \", match.group())\n",
    "else:\n",
    "    print(\"Nao encontrado.\")"
   ]
  },
  {
   "cell_type": "markdown",
   "metadata": {},
   "source": [
    "Exemplo usando \"\\W\", que localiza qualquer caracter que nao seja de palavra."
   ]
  },
  {
   "cell_type": "code",
   "execution_count": 3,
   "metadata": {},
   "outputs": [
    {
     "name": "stdout",
     "output_type": "stream",
     "text": [
      "Matches: [',', ' ', '!']\n"
     ]
    }
   ],
   "source": [
    "padrao = r\"\\W\"\n",
    "texto = \"Ola, Mundo!\"\n",
    "matches = re.findall(padrao, texto)\n",
    "\n",
    "print(\"Matches:\", matches)"
   ]
  },
  {
   "cell_type": "markdown",
   "metadata": {},
   "source": [
    "A expressao regular eh definida como r\"\\W\", que usa a sequencia especial \\W para identificar qualquer caracter que nao seja de palavra (a-z, A-Z, 0-9 ou _).\n",
    "\n",
    "A funcao \"__findall()__\" encontra todas as ocorrencias de um padrao especifico em uma string."
   ]
  },
  {
   "cell_type": "code",
   "execution_count": 4,
   "metadata": {},
   "outputs": [
    {
     "name": "stdout",
     "output_type": "stream",
     "text": [
      "['er', 'er', 'er']\n"
     ]
    }
   ],
   "source": [
    "s2 = \"Diogo gosta de estudar e eh conhecido por querer ser um 'cientista de dados'\"\n",
    "\n",
    "# Vamos encontrar todas as ocorrencias de \"er\"\n",
    "\n",
    "resultado = re.findall(\"er\", s2)\n",
    "print(resultado)"
   ]
  },
  {
   "cell_type": "markdown",
   "metadata": {},
   "source": [
    "A funcao \"__split()__\" divide a string em um array de substrings baseado no padrao definido.\n",
    "\n",
    "\"\\s\" encontra qualquer caractere de espaco em branco."
   ]
  },
  {
   "cell_type": "code",
   "execution_count": 5,
   "metadata": {},
   "outputs": [
    {
     "name": "stdout",
     "output_type": "stream",
     "text": [
      "['Diogo', 'gosta', 'de', 'estudar', 'e', 'eh', 'conhecido', 'por', 'querer', 'ser', 'um', \"'cientista\", 'de', \"dados'\"]\n"
     ]
    }
   ],
   "source": [
    "# Vamos usar a funcao split para dividir a string da variavel s2.\n",
    "split_array = re.split(\"\\s\", s2)\n",
    "print(split_array)"
   ]
  },
  {
   "cell_type": "markdown",
   "metadata": {},
   "source": [
    "A funcao \"__sub()__\" eh usada para substituir todas as ocorrencias de um padrao em uma string por uma substituicao especifica."
   ]
  },
  {
   "cell_type": "code",
   "execution_count": 7,
   "metadata": {},
   "outputs": [
    {
     "name": "stdout",
     "output_type": "stream",
     "text": [
      "Diogo gosta de estudar e eh conhecido por querer ser um 'engenheiro de aprendizado de maquina'\n"
     ]
    }
   ],
   "source": [
    "padrao = r\"cientista de dados\"\n",
    "\n",
    "substituicao = \"engenheiro de aprendizado de maquina\"\n",
    "\n",
    "nova_string = re.sub(padrao, substituicao, s2, flags=re.IGNORECASE)\n",
    "\n",
    "print(nova_string)"
   ]
  },
  {
   "cell_type": "markdown",
   "metadata": {},
   "source": [
    "Funcoes legais de lembrar:"
   ]
  },
  {
   "cell_type": "code",
   "execution_count": 12,
   "metadata": {},
   "outputs": [
    {
     "name": "stdout",
     "output_type": "stream",
     "text": [
      "5\n",
      "\n",
      "diogo\n",
      "DIOGO\n",
      "Meu nome eh Rezende\n",
      "['Ola', ' me chamo Diogo']\n",
      "Meu nome eh Diogo\n"
     ]
    }
   ],
   "source": [
    "# Retorna o tamanho: len()\n",
    "string = \"Diogo\"\n",
    "print(len(string))\n",
    "print()\n",
    "\n",
    "# Converte para caixa baixa\n",
    "string = \"DIogo\"\n",
    "print(string.lower())\n",
    "\n",
    "# Converte para caixa alta\n",
    "string = \"diogo\"\n",
    "print(string.upper())\n",
    "\n",
    "# Substitui uma string\n",
    "string = \"Meu nome eh Diogo\"\n",
    "nova_string = string.replace(\"Diogo\", \"Rezende\")\n",
    "print(nova_string)\n",
    "\n",
    "# Divide uma string baseado em um delimitador\n",
    "string = \"Ola, me chamo Diogo\"\n",
    "split_texto = string.split(\",\")\n",
    "print(split_texto)\n",
    "\n",
    "# Remove espacos em branco no inicio e no final da string.\n",
    "string = \"  Meu nome eh Diogo  \"\n",
    "remove_brancos = string.strip()\n",
    "print(remove_brancos)\n"
   ]
  }
 ],
 "metadata": {
  "kernelspec": {
   "display_name": "base",
   "language": "python",
   "name": "python3"
  },
  "language_info": {
   "codemirror_mode": {
    "name": "ipython",
    "version": 3
   },
   "file_extension": ".py",
   "mimetype": "text/x-python",
   "name": "python",
   "nbconvert_exporter": "python",
   "pygments_lexer": "ipython3",
   "version": "3.11.5"
  }
 },
 "nbformat": 4,
 "nbformat_minor": 2
}
